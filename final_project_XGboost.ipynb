{
 "cells": [
  {
   "cell_type": "code",
   "execution_count": 1,
   "metadata": {},
   "outputs": [],
   "source": [
    "import pandas as pd\n",
    "import numpy as np\n",
    "import matplotlib.pyplot as plt\n",
    "import seaborn as sns\n",
    "from sklearn import datasets\n",
    "from sklearn.model_selection import train_test_split\n",
    "from sklearn.impute import SimpleImputer\n",
    "from sklearn.preprocessing import StandardScaler, OneHotEncoder, LabelEncoder\n",
    "from sklearn.compose import ColumnTransformer\n",
    "from sklearn.linear_model import LinearRegression\n",
    "from sklearn.linear_model import LogisticRegression"
   ]
  },
  {
   "cell_type": "code",
   "execution_count": 2,
   "metadata": {},
   "outputs": [
    {
     "name": "stderr",
     "output_type": "stream",
     "text": [
      "/var/folders/yc/k6jwrlhs0gldx0wl0rtkrrxh0000gn/T/ipykernel_43914/816553336.py:1: DtypeWarning: Columns (26) have mixed types. Specify dtype option on import or set low_memory=False.\n",
      "  df = pd.read_csv(\"../../Final Project/train.csv\")\n"
     ]
    }
   ],
   "source": [
    "df = pd.read_csv(\"../../Final Project/train.csv\")"
   ]
  },
  {
   "cell_type": "code",
   "execution_count": 3,
   "metadata": {},
   "outputs": [
    {
     "data": {
      "text/html": [
       "<div>\n",
       "<style scoped>\n",
       "    .dataframe tbody tr th:only-of-type {\n",
       "        vertical-align: middle;\n",
       "    }\n",
       "\n",
       "    .dataframe tbody tr th {\n",
       "        vertical-align: top;\n",
       "    }\n",
       "\n",
       "    .dataframe thead th {\n",
       "        text-align: right;\n",
       "    }\n",
       "</style>\n",
       "<table border=\"1\" class=\"dataframe\">\n",
       "  <thead>\n",
       "    <tr style=\"text-align: right;\">\n",
       "      <th></th>\n",
       "      <th>count</th>\n",
       "      <th>unique</th>\n",
       "      <th>top</th>\n",
       "      <th>freq</th>\n",
       "      <th>mean</th>\n",
       "      <th>std</th>\n",
       "      <th>min</th>\n",
       "      <th>25%</th>\n",
       "      <th>50%</th>\n",
       "      <th>75%</th>\n",
       "      <th>max</th>\n",
       "    </tr>\n",
       "  </thead>\n",
       "  <tbody>\n",
       "    <tr>\n",
       "      <th>ID</th>\n",
       "      <td>100000</td>\n",
       "      <td>100000</td>\n",
       "      <td>0x1602</td>\n",
       "      <td>1</td>\n",
       "      <td>NaN</td>\n",
       "      <td>NaN</td>\n",
       "      <td>NaN</td>\n",
       "      <td>NaN</td>\n",
       "      <td>NaN</td>\n",
       "      <td>NaN</td>\n",
       "      <td>NaN</td>\n",
       "    </tr>\n",
       "    <tr>\n",
       "      <th>Customer_ID</th>\n",
       "      <td>100000</td>\n",
       "      <td>12500</td>\n",
       "      <td>CUS_0xd40</td>\n",
       "      <td>8</td>\n",
       "      <td>NaN</td>\n",
       "      <td>NaN</td>\n",
       "      <td>NaN</td>\n",
       "      <td>NaN</td>\n",
       "      <td>NaN</td>\n",
       "      <td>NaN</td>\n",
       "      <td>NaN</td>\n",
       "    </tr>\n",
       "    <tr>\n",
       "      <th>Month</th>\n",
       "      <td>100000</td>\n",
       "      <td>8</td>\n",
       "      <td>January</td>\n",
       "      <td>12500</td>\n",
       "      <td>NaN</td>\n",
       "      <td>NaN</td>\n",
       "      <td>NaN</td>\n",
       "      <td>NaN</td>\n",
       "      <td>NaN</td>\n",
       "      <td>NaN</td>\n",
       "      <td>NaN</td>\n",
       "    </tr>\n",
       "    <tr>\n",
       "      <th>Name</th>\n",
       "      <td>90015</td>\n",
       "      <td>10139</td>\n",
       "      <td>Langep</td>\n",
       "      <td>44</td>\n",
       "      <td>NaN</td>\n",
       "      <td>NaN</td>\n",
       "      <td>NaN</td>\n",
       "      <td>NaN</td>\n",
       "      <td>NaN</td>\n",
       "      <td>NaN</td>\n",
       "      <td>NaN</td>\n",
       "    </tr>\n",
       "    <tr>\n",
       "      <th>Age</th>\n",
       "      <td>100000</td>\n",
       "      <td>1788</td>\n",
       "      <td>38</td>\n",
       "      <td>2833</td>\n",
       "      <td>NaN</td>\n",
       "      <td>NaN</td>\n",
       "      <td>NaN</td>\n",
       "      <td>NaN</td>\n",
       "      <td>NaN</td>\n",
       "      <td>NaN</td>\n",
       "      <td>NaN</td>\n",
       "    </tr>\n",
       "    <tr>\n",
       "      <th>SSN</th>\n",
       "      <td>100000</td>\n",
       "      <td>12501</td>\n",
       "      <td>#F%$D@*&amp;8</td>\n",
       "      <td>5572</td>\n",
       "      <td>NaN</td>\n",
       "      <td>NaN</td>\n",
       "      <td>NaN</td>\n",
       "      <td>NaN</td>\n",
       "      <td>NaN</td>\n",
       "      <td>NaN</td>\n",
       "      <td>NaN</td>\n",
       "    </tr>\n",
       "    <tr>\n",
       "      <th>Occupation</th>\n",
       "      <td>100000</td>\n",
       "      <td>16</td>\n",
       "      <td>_______</td>\n",
       "      <td>7062</td>\n",
       "      <td>NaN</td>\n",
       "      <td>NaN</td>\n",
       "      <td>NaN</td>\n",
       "      <td>NaN</td>\n",
       "      <td>NaN</td>\n",
       "      <td>NaN</td>\n",
       "      <td>NaN</td>\n",
       "    </tr>\n",
       "    <tr>\n",
       "      <th>Annual_Income</th>\n",
       "      <td>100000</td>\n",
       "      <td>18940</td>\n",
       "      <td>36585.12</td>\n",
       "      <td>16</td>\n",
       "      <td>NaN</td>\n",
       "      <td>NaN</td>\n",
       "      <td>NaN</td>\n",
       "      <td>NaN</td>\n",
       "      <td>NaN</td>\n",
       "      <td>NaN</td>\n",
       "      <td>NaN</td>\n",
       "    </tr>\n",
       "    <tr>\n",
       "      <th>Monthly_Inhand_Salary</th>\n",
       "      <td>84998.0</td>\n",
       "      <td>NaN</td>\n",
       "      <td>NaN</td>\n",
       "      <td>NaN</td>\n",
       "      <td>4194.17085</td>\n",
       "      <td>3183.686167</td>\n",
       "      <td>303.645417</td>\n",
       "      <td>1625.568229</td>\n",
       "      <td>3093.745</td>\n",
       "      <td>5957.448333</td>\n",
       "      <td>15204.633333</td>\n",
       "    </tr>\n",
       "    <tr>\n",
       "      <th>Num_Bank_Accounts</th>\n",
       "      <td>100000.0</td>\n",
       "      <td>NaN</td>\n",
       "      <td>NaN</td>\n",
       "      <td>NaN</td>\n",
       "      <td>17.09128</td>\n",
       "      <td>117.404834</td>\n",
       "      <td>-1.0</td>\n",
       "      <td>3.0</td>\n",
       "      <td>6.0</td>\n",
       "      <td>7.0</td>\n",
       "      <td>1798.0</td>\n",
       "    </tr>\n",
       "    <tr>\n",
       "      <th>Num_Credit_Card</th>\n",
       "      <td>100000.0</td>\n",
       "      <td>NaN</td>\n",
       "      <td>NaN</td>\n",
       "      <td>NaN</td>\n",
       "      <td>22.47443</td>\n",
       "      <td>129.05741</td>\n",
       "      <td>0.0</td>\n",
       "      <td>4.0</td>\n",
       "      <td>5.0</td>\n",
       "      <td>7.0</td>\n",
       "      <td>1499.0</td>\n",
       "    </tr>\n",
       "    <tr>\n",
       "      <th>Interest_Rate</th>\n",
       "      <td>100000.0</td>\n",
       "      <td>NaN</td>\n",
       "      <td>NaN</td>\n",
       "      <td>NaN</td>\n",
       "      <td>72.46604</td>\n",
       "      <td>466.422621</td>\n",
       "      <td>1.0</td>\n",
       "      <td>8.0</td>\n",
       "      <td>13.0</td>\n",
       "      <td>20.0</td>\n",
       "      <td>5797.0</td>\n",
       "    </tr>\n",
       "    <tr>\n",
       "      <th>Num_of_Loan</th>\n",
       "      <td>100000</td>\n",
       "      <td>434</td>\n",
       "      <td>3</td>\n",
       "      <td>14386</td>\n",
       "      <td>NaN</td>\n",
       "      <td>NaN</td>\n",
       "      <td>NaN</td>\n",
       "      <td>NaN</td>\n",
       "      <td>NaN</td>\n",
       "      <td>NaN</td>\n",
       "      <td>NaN</td>\n",
       "    </tr>\n",
       "    <tr>\n",
       "      <th>Type_of_Loan</th>\n",
       "      <td>88592</td>\n",
       "      <td>6260</td>\n",
       "      <td>Not Specified</td>\n",
       "      <td>1408</td>\n",
       "      <td>NaN</td>\n",
       "      <td>NaN</td>\n",
       "      <td>NaN</td>\n",
       "      <td>NaN</td>\n",
       "      <td>NaN</td>\n",
       "      <td>NaN</td>\n",
       "      <td>NaN</td>\n",
       "    </tr>\n",
       "    <tr>\n",
       "      <th>Delay_from_due_date</th>\n",
       "      <td>100000.0</td>\n",
       "      <td>NaN</td>\n",
       "      <td>NaN</td>\n",
       "      <td>NaN</td>\n",
       "      <td>21.06878</td>\n",
       "      <td>14.860104</td>\n",
       "      <td>-5.0</td>\n",
       "      <td>10.0</td>\n",
       "      <td>18.0</td>\n",
       "      <td>28.0</td>\n",
       "      <td>67.0</td>\n",
       "    </tr>\n",
       "    <tr>\n",
       "      <th>Num_of_Delayed_Payment</th>\n",
       "      <td>92998</td>\n",
       "      <td>749</td>\n",
       "      <td>19</td>\n",
       "      <td>5327</td>\n",
       "      <td>NaN</td>\n",
       "      <td>NaN</td>\n",
       "      <td>NaN</td>\n",
       "      <td>NaN</td>\n",
       "      <td>NaN</td>\n",
       "      <td>NaN</td>\n",
       "      <td>NaN</td>\n",
       "    </tr>\n",
       "    <tr>\n",
       "      <th>Changed_Credit_Limit</th>\n",
       "      <td>100000</td>\n",
       "      <td>4384</td>\n",
       "      <td>_</td>\n",
       "      <td>2091</td>\n",
       "      <td>NaN</td>\n",
       "      <td>NaN</td>\n",
       "      <td>NaN</td>\n",
       "      <td>NaN</td>\n",
       "      <td>NaN</td>\n",
       "      <td>NaN</td>\n",
       "      <td>NaN</td>\n",
       "    </tr>\n",
       "    <tr>\n",
       "      <th>Num_Credit_Inquiries</th>\n",
       "      <td>98035.0</td>\n",
       "      <td>NaN</td>\n",
       "      <td>NaN</td>\n",
       "      <td>NaN</td>\n",
       "      <td>27.754251</td>\n",
       "      <td>193.177339</td>\n",
       "      <td>0.0</td>\n",
       "      <td>3.0</td>\n",
       "      <td>6.0</td>\n",
       "      <td>9.0</td>\n",
       "      <td>2597.0</td>\n",
       "    </tr>\n",
       "    <tr>\n",
       "      <th>Credit_Mix</th>\n",
       "      <td>100000</td>\n",
       "      <td>4</td>\n",
       "      <td>Standard</td>\n",
       "      <td>36479</td>\n",
       "      <td>NaN</td>\n",
       "      <td>NaN</td>\n",
       "      <td>NaN</td>\n",
       "      <td>NaN</td>\n",
       "      <td>NaN</td>\n",
       "      <td>NaN</td>\n",
       "      <td>NaN</td>\n",
       "    </tr>\n",
       "    <tr>\n",
       "      <th>Outstanding_Debt</th>\n",
       "      <td>100000</td>\n",
       "      <td>13178</td>\n",
       "      <td>1360.45</td>\n",
       "      <td>24</td>\n",
       "      <td>NaN</td>\n",
       "      <td>NaN</td>\n",
       "      <td>NaN</td>\n",
       "      <td>NaN</td>\n",
       "      <td>NaN</td>\n",
       "      <td>NaN</td>\n",
       "      <td>NaN</td>\n",
       "    </tr>\n",
       "    <tr>\n",
       "      <th>Credit_Utilization_Ratio</th>\n",
       "      <td>100000.0</td>\n",
       "      <td>NaN</td>\n",
       "      <td>NaN</td>\n",
       "      <td>NaN</td>\n",
       "      <td>32.285173</td>\n",
       "      <td>5.116875</td>\n",
       "      <td>20.0</td>\n",
       "      <td>28.052567</td>\n",
       "      <td>32.305784</td>\n",
       "      <td>36.496663</td>\n",
       "      <td>50.0</td>\n",
       "    </tr>\n",
       "    <tr>\n",
       "      <th>Credit_History_Age</th>\n",
       "      <td>90970</td>\n",
       "      <td>404</td>\n",
       "      <td>15 Years and 11 Months</td>\n",
       "      <td>446</td>\n",
       "      <td>NaN</td>\n",
       "      <td>NaN</td>\n",
       "      <td>NaN</td>\n",
       "      <td>NaN</td>\n",
       "      <td>NaN</td>\n",
       "      <td>NaN</td>\n",
       "      <td>NaN</td>\n",
       "    </tr>\n",
       "    <tr>\n",
       "      <th>Payment_of_Min_Amount</th>\n",
       "      <td>100000</td>\n",
       "      <td>3</td>\n",
       "      <td>Yes</td>\n",
       "      <td>52326</td>\n",
       "      <td>NaN</td>\n",
       "      <td>NaN</td>\n",
       "      <td>NaN</td>\n",
       "      <td>NaN</td>\n",
       "      <td>NaN</td>\n",
       "      <td>NaN</td>\n",
       "      <td>NaN</td>\n",
       "    </tr>\n",
       "    <tr>\n",
       "      <th>Total_EMI_per_month</th>\n",
       "      <td>100000.0</td>\n",
       "      <td>NaN</td>\n",
       "      <td>NaN</td>\n",
       "      <td>NaN</td>\n",
       "      <td>1403.118217</td>\n",
       "      <td>8306.04127</td>\n",
       "      <td>0.0</td>\n",
       "      <td>30.30666</td>\n",
       "      <td>69.249473</td>\n",
       "      <td>161.224249</td>\n",
       "      <td>82331.0</td>\n",
       "    </tr>\n",
       "    <tr>\n",
       "      <th>Amount_invested_monthly</th>\n",
       "      <td>95521</td>\n",
       "      <td>91049</td>\n",
       "      <td>__10000__</td>\n",
       "      <td>4305</td>\n",
       "      <td>NaN</td>\n",
       "      <td>NaN</td>\n",
       "      <td>NaN</td>\n",
       "      <td>NaN</td>\n",
       "      <td>NaN</td>\n",
       "      <td>NaN</td>\n",
       "      <td>NaN</td>\n",
       "    </tr>\n",
       "    <tr>\n",
       "      <th>Payment_Behaviour</th>\n",
       "      <td>100000</td>\n",
       "      <td>7</td>\n",
       "      <td>Low_spent_Small_value_payments</td>\n",
       "      <td>25513</td>\n",
       "      <td>NaN</td>\n",
       "      <td>NaN</td>\n",
       "      <td>NaN</td>\n",
       "      <td>NaN</td>\n",
       "      <td>NaN</td>\n",
       "      <td>NaN</td>\n",
       "      <td>NaN</td>\n",
       "    </tr>\n",
       "    <tr>\n",
       "      <th>Monthly_Balance</th>\n",
       "      <td>98800</td>\n",
       "      <td>98792</td>\n",
       "      <td>__-333333333333333333333333333__</td>\n",
       "      <td>9</td>\n",
       "      <td>NaN</td>\n",
       "      <td>NaN</td>\n",
       "      <td>NaN</td>\n",
       "      <td>NaN</td>\n",
       "      <td>NaN</td>\n",
       "      <td>NaN</td>\n",
       "      <td>NaN</td>\n",
       "    </tr>\n",
       "    <tr>\n",
       "      <th>Credit_Score</th>\n",
       "      <td>100000</td>\n",
       "      <td>3</td>\n",
       "      <td>Standard</td>\n",
       "      <td>53174</td>\n",
       "      <td>NaN</td>\n",
       "      <td>NaN</td>\n",
       "      <td>NaN</td>\n",
       "      <td>NaN</td>\n",
       "      <td>NaN</td>\n",
       "      <td>NaN</td>\n",
       "      <td>NaN</td>\n",
       "    </tr>\n",
       "  </tbody>\n",
       "</table>\n",
       "</div>"
      ],
      "text/plain": [
       "                             count  unique                               top  \\\n",
       "ID                          100000  100000                            0x1602   \n",
       "Customer_ID                 100000   12500                         CUS_0xd40   \n",
       "Month                       100000       8                           January   \n",
       "Name                         90015   10139                            Langep   \n",
       "Age                         100000    1788                                38   \n",
       "SSN                         100000   12501                         #F%$D@*&8   \n",
       "Occupation                  100000      16                           _______   \n",
       "Annual_Income               100000   18940                          36585.12   \n",
       "Monthly_Inhand_Salary      84998.0     NaN                               NaN   \n",
       "Num_Bank_Accounts         100000.0     NaN                               NaN   \n",
       "Num_Credit_Card           100000.0     NaN                               NaN   \n",
       "Interest_Rate             100000.0     NaN                               NaN   \n",
       "Num_of_Loan                 100000     434                                 3   \n",
       "Type_of_Loan                 88592    6260                     Not Specified   \n",
       "Delay_from_due_date       100000.0     NaN                               NaN   \n",
       "Num_of_Delayed_Payment       92998     749                                19   \n",
       "Changed_Credit_Limit        100000    4384                                 _   \n",
       "Num_Credit_Inquiries       98035.0     NaN                               NaN   \n",
       "Credit_Mix                  100000       4                          Standard   \n",
       "Outstanding_Debt            100000   13178                           1360.45   \n",
       "Credit_Utilization_Ratio  100000.0     NaN                               NaN   \n",
       "Credit_History_Age           90970     404            15 Years and 11 Months   \n",
       "Payment_of_Min_Amount       100000       3                               Yes   \n",
       "Total_EMI_per_month       100000.0     NaN                               NaN   \n",
       "Amount_invested_monthly      95521   91049                         __10000__   \n",
       "Payment_Behaviour           100000       7    Low_spent_Small_value_payments   \n",
       "Monthly_Balance              98800   98792  __-333333333333333333333333333__   \n",
       "Credit_Score                100000       3                          Standard   \n",
       "\n",
       "                           freq         mean          std         min  \\\n",
       "ID                            1          NaN          NaN         NaN   \n",
       "Customer_ID                   8          NaN          NaN         NaN   \n",
       "Month                     12500          NaN          NaN         NaN   \n",
       "Name                         44          NaN          NaN         NaN   \n",
       "Age                        2833          NaN          NaN         NaN   \n",
       "SSN                        5572          NaN          NaN         NaN   \n",
       "Occupation                 7062          NaN          NaN         NaN   \n",
       "Annual_Income                16          NaN          NaN         NaN   \n",
       "Monthly_Inhand_Salary       NaN   4194.17085  3183.686167  303.645417   \n",
       "Num_Bank_Accounts           NaN     17.09128   117.404834        -1.0   \n",
       "Num_Credit_Card             NaN     22.47443    129.05741         0.0   \n",
       "Interest_Rate               NaN     72.46604   466.422621         1.0   \n",
       "Num_of_Loan               14386          NaN          NaN         NaN   \n",
       "Type_of_Loan               1408          NaN          NaN         NaN   \n",
       "Delay_from_due_date         NaN     21.06878    14.860104        -5.0   \n",
       "Num_of_Delayed_Payment     5327          NaN          NaN         NaN   \n",
       "Changed_Credit_Limit       2091          NaN          NaN         NaN   \n",
       "Num_Credit_Inquiries        NaN    27.754251   193.177339         0.0   \n",
       "Credit_Mix                36479          NaN          NaN         NaN   \n",
       "Outstanding_Debt             24          NaN          NaN         NaN   \n",
       "Credit_Utilization_Ratio    NaN    32.285173     5.116875        20.0   \n",
       "Credit_History_Age          446          NaN          NaN         NaN   \n",
       "Payment_of_Min_Amount     52326          NaN          NaN         NaN   \n",
       "Total_EMI_per_month         NaN  1403.118217   8306.04127         0.0   \n",
       "Amount_invested_monthly    4305          NaN          NaN         NaN   \n",
       "Payment_Behaviour         25513          NaN          NaN         NaN   \n",
       "Monthly_Balance               9          NaN          NaN         NaN   \n",
       "Credit_Score              53174          NaN          NaN         NaN   \n",
       "\n",
       "                                  25%        50%          75%           max  \n",
       "ID                                NaN        NaN          NaN           NaN  \n",
       "Customer_ID                       NaN        NaN          NaN           NaN  \n",
       "Month                             NaN        NaN          NaN           NaN  \n",
       "Name                              NaN        NaN          NaN           NaN  \n",
       "Age                               NaN        NaN          NaN           NaN  \n",
       "SSN                               NaN        NaN          NaN           NaN  \n",
       "Occupation                        NaN        NaN          NaN           NaN  \n",
       "Annual_Income                     NaN        NaN          NaN           NaN  \n",
       "Monthly_Inhand_Salary     1625.568229   3093.745  5957.448333  15204.633333  \n",
       "Num_Bank_Accounts                 3.0        6.0          7.0        1798.0  \n",
       "Num_Credit_Card                   4.0        5.0          7.0        1499.0  \n",
       "Interest_Rate                     8.0       13.0         20.0        5797.0  \n",
       "Num_of_Loan                       NaN        NaN          NaN           NaN  \n",
       "Type_of_Loan                      NaN        NaN          NaN           NaN  \n",
       "Delay_from_due_date              10.0       18.0         28.0          67.0  \n",
       "Num_of_Delayed_Payment            NaN        NaN          NaN           NaN  \n",
       "Changed_Credit_Limit              NaN        NaN          NaN           NaN  \n",
       "Num_Credit_Inquiries              3.0        6.0          9.0        2597.0  \n",
       "Credit_Mix                        NaN        NaN          NaN           NaN  \n",
       "Outstanding_Debt                  NaN        NaN          NaN           NaN  \n",
       "Credit_Utilization_Ratio    28.052567  32.305784    36.496663          50.0  \n",
       "Credit_History_Age                NaN        NaN          NaN           NaN  \n",
       "Payment_of_Min_Amount             NaN        NaN          NaN           NaN  \n",
       "Total_EMI_per_month          30.30666  69.249473   161.224249       82331.0  \n",
       "Amount_invested_monthly           NaN        NaN          NaN           NaN  \n",
       "Payment_Behaviour                 NaN        NaN          NaN           NaN  \n",
       "Monthly_Balance                   NaN        NaN          NaN           NaN  \n",
       "Credit_Score                      NaN        NaN          NaN           NaN  "
      ]
     },
     "execution_count": 3,
     "metadata": {},
     "output_type": "execute_result"
    }
   ],
   "source": [
    "df.describe(include = 'all').T"
   ]
  },
  {
   "cell_type": "markdown",
   "metadata": {},
   "source": [
    "## Missing values"
   ]
  },
  {
   "cell_type": "code",
   "execution_count": 4,
   "metadata": {},
   "outputs": [
    {
     "data": {
      "text/plain": [
       "ID                              0\n",
       "Customer_ID                     0\n",
       "Month                           0\n",
       "Name                         9985\n",
       "Age                             0\n",
       "SSN                             0\n",
       "Occupation                      0\n",
       "Annual_Income                   0\n",
       "Monthly_Inhand_Salary       15002\n",
       "Num_Bank_Accounts               0\n",
       "Num_Credit_Card                 0\n",
       "Interest_Rate                   0\n",
       "Num_of_Loan                     0\n",
       "Type_of_Loan                11408\n",
       "Delay_from_due_date             0\n",
       "Num_of_Delayed_Payment       7002\n",
       "Changed_Credit_Limit            0\n",
       "Num_Credit_Inquiries         1965\n",
       "Credit_Mix                      0\n",
       "Outstanding_Debt                0\n",
       "Credit_Utilization_Ratio        0\n",
       "Credit_History_Age           9030\n",
       "Payment_of_Min_Amount           0\n",
       "Total_EMI_per_month             0\n",
       "Amount_invested_monthly      4479\n",
       "Payment_Behaviour               0\n",
       "Monthly_Balance              1200\n",
       "Credit_Score                    0\n",
       "dtype: int64"
      ]
     },
     "execution_count": 4,
     "metadata": {},
     "output_type": "execute_result"
    }
   ],
   "source": [
    "# count missing values in all columns of dataset\n",
    "\n",
    "df.isna().sum()"
   ]
  },
  {
   "cell_type": "code",
   "execution_count": 5,
   "metadata": {},
   "outputs": [
    {
     "data": {
      "text/plain": [
       "'\\nName\\nMonthly inhand salary -> OK\\ntype of loan\\nnum of delayed payments\\nnum credit inquiries\\ncredit history age\\namount invested monthly\\nmonthly balance\\n\\n'"
      ]
     },
     "execution_count": 5,
     "metadata": {},
     "output_type": "execute_result"
    }
   ],
   "source": [
    "\"\"\"\n",
    "Name\n",
    "Monthly inhand salary -> OK\n",
    "type of loan\n",
    "num of delayed payments\n",
    "num credit inquiries\n",
    "credit history age\n",
    "amount invested monthly\n",
    "monthly balance\n",
    "\n",
    "\"\"\""
   ]
  },
  {
   "cell_type": "code",
   "execution_count": 6,
   "metadata": {},
   "outputs": [
    {
     "data": {
      "text/plain": [
       "Name                        9985\n",
       "Monthly_Inhand_Salary      15002\n",
       "Type_of_Loan               11408\n",
       "Num_of_Delayed_Payment      7002\n",
       "Num_Credit_Inquiries        1965\n",
       "Credit_History_Age          9030\n",
       "Amount_invested_monthly     4479\n",
       "Monthly_Balance             1200\n",
       "Credit_Score                   0\n",
       "dtype: int64"
      ]
     },
     "execution_count": 6,
     "metadata": {},
     "output_type": "execute_result"
    }
   ],
   "source": [
    "# making a dataset only with columns containing NA\n",
    "\n",
    "columns_na = df[[\"Name\", \"Monthly_Inhand_Salary\", \"Type_of_Loan\", \"Num_of_Delayed_Payment\", \"Num_Credit_Inquiries\", \"Credit_History_Age\", \"Amount_invested_monthly\", \"Monthly_Balance\", \"Credit_Score\"]]\n",
    "columns_na.isna().sum()"
   ]
  },
  {
   "cell_type": "markdown",
   "metadata": {},
   "source": [
    "## Data types"
   ]
  },
  {
   "cell_type": "code",
   "execution_count": 7,
   "metadata": {},
   "outputs": [
    {
     "name": "stdout",
     "output_type": "stream",
     "text": [
      "<class 'pandas.core.frame.DataFrame'>\n",
      "RangeIndex: 100000 entries, 0 to 99999\n",
      "Data columns (total 28 columns):\n",
      " #   Column                    Non-Null Count   Dtype  \n",
      "---  ------                    --------------   -----  \n",
      " 0   ID                        100000 non-null  object \n",
      " 1   Customer_ID               100000 non-null  object \n",
      " 2   Month                     100000 non-null  object \n",
      " 3   Name                      90015 non-null   object \n",
      " 4   Age                       100000 non-null  object \n",
      " 5   SSN                       100000 non-null  object \n",
      " 6   Occupation                100000 non-null  object \n",
      " 7   Annual_Income             100000 non-null  object \n",
      " 8   Monthly_Inhand_Salary     84998 non-null   float64\n",
      " 9   Num_Bank_Accounts         100000 non-null  int64  \n",
      " 10  Num_Credit_Card           100000 non-null  int64  \n",
      " 11  Interest_Rate             100000 non-null  int64  \n",
      " 12  Num_of_Loan               100000 non-null  object \n",
      " 13  Type_of_Loan              88592 non-null   object \n",
      " 14  Delay_from_due_date       100000 non-null  int64  \n",
      " 15  Num_of_Delayed_Payment    92998 non-null   object \n",
      " 16  Changed_Credit_Limit      100000 non-null  object \n",
      " 17  Num_Credit_Inquiries      98035 non-null   float64\n",
      " 18  Credit_Mix                100000 non-null  object \n",
      " 19  Outstanding_Debt          100000 non-null  object \n",
      " 20  Credit_Utilization_Ratio  100000 non-null  float64\n",
      " 21  Credit_History_Age        90970 non-null   object \n",
      " 22  Payment_of_Min_Amount     100000 non-null  object \n",
      " 23  Total_EMI_per_month       100000 non-null  float64\n",
      " 24  Amount_invested_monthly   95521 non-null   object \n",
      " 25  Payment_Behaviour         100000 non-null  object \n",
      " 26  Monthly_Balance           98800 non-null   object \n",
      " 27  Credit_Score              100000 non-null  object \n",
      "dtypes: float64(4), int64(4), object(20)\n",
      "memory usage: 21.4+ MB\n"
     ]
    }
   ],
   "source": [
    "df.info()"
   ]
  },
  {
   "cell_type": "code",
   "execution_count": 8,
   "metadata": {},
   "outputs": [
    {
     "name": "stderr",
     "output_type": "stream",
     "text": [
      "/var/folders/yc/k6jwrlhs0gldx0wl0rtkrrxh0000gn/T/ipykernel_43914/295826823.py:5: FutureWarning: SeriesGroupBy.fillna is deprecated and will be removed in a future version. Use obj.ffill() or obj.bfill() for forward or backward filling instead. If you want to fill with a single value, use Series.fillna instead\n",
      "  df['Monthly_Inhand_Salary'] = df.groupby('Customer_ID')['Monthly_Inhand_Salary'].fillna(method='ffill')\n",
      "/var/folders/yc/k6jwrlhs0gldx0wl0rtkrrxh0000gn/T/ipykernel_43914/295826823.py:5: FutureWarning: Series.fillna with 'method' is deprecated and will raise in a future version. Use obj.ffill() or obj.bfill() instead.\n",
      "  df['Monthly_Inhand_Salary'] = df.groupby('Customer_ID')['Monthly_Inhand_Salary'].fillna(method='ffill')\n",
      "/var/folders/yc/k6jwrlhs0gldx0wl0rtkrrxh0000gn/T/ipykernel_43914/295826823.py:8: FutureWarning: SeriesGroupBy.fillna is deprecated and will be removed in a future version. Use obj.ffill() or obj.bfill() for forward or backward filling instead. If you want to fill with a single value, use Series.fillna instead\n",
      "  df['Monthly_Inhand_Salary'] = df.groupby('Customer_ID')['Monthly_Inhand_Salary'].fillna(method='bfill')\n",
      "/var/folders/yc/k6jwrlhs0gldx0wl0rtkrrxh0000gn/T/ipykernel_43914/295826823.py:8: FutureWarning: Series.fillna with 'method' is deprecated and will raise in a future version. Use obj.ffill() or obj.bfill() instead.\n",
      "  df['Monthly_Inhand_Salary'] = df.groupby('Customer_ID')['Monthly_Inhand_Salary'].fillna(method='bfill')\n"
     ]
    }
   ],
   "source": [
    "\n",
    "\n",
    "# Sort the DataFrame by 'Customer_ID' and any other relevant columns\n",
    "df = df.sort_values(by=['Customer_ID', \"Monthly_Inhand_Salary\"])\n",
    "\n",
    "# Forward fill missing values in the 'monthly_inhad_salary' column within each group of 'Customer_ID'\n",
    "df['Monthly_Inhand_Salary'] = df.groupby('Customer_ID')['Monthly_Inhand_Salary'].fillna(method='ffill')\n",
    "\n",
    "# Backward fill for any remaining missing values at the beginning of each group\n",
    "df['Monthly_Inhand_Salary'] = df.groupby('Customer_ID')['Monthly_Inhand_Salary'].fillna(method='bfill')\n",
    "\n",
    "# Reset index if needed\n",
    "df = df.reset_index(drop=True)\n"
   ]
  },
  {
   "cell_type": "code",
   "execution_count": 9,
   "metadata": {},
   "outputs": [
    {
     "name": "stdout",
     "output_type": "stream",
     "text": [
      "0\n"
     ]
    },
    {
     "data": {
      "text/html": [
       "<div>\n",
       "<style scoped>\n",
       "    .dataframe tbody tr th:only-of-type {\n",
       "        vertical-align: middle;\n",
       "    }\n",
       "\n",
       "    .dataframe tbody tr th {\n",
       "        vertical-align: top;\n",
       "    }\n",
       "\n",
       "    .dataframe thead th {\n",
       "        text-align: right;\n",
       "    }\n",
       "</style>\n",
       "<table border=\"1\" class=\"dataframe\">\n",
       "  <thead>\n",
       "    <tr style=\"text-align: right;\">\n",
       "      <th></th>\n",
       "      <th>ID</th>\n",
       "      <th>Customer_ID</th>\n",
       "      <th>Month</th>\n",
       "      <th>Name</th>\n",
       "      <th>Age</th>\n",
       "      <th>SSN</th>\n",
       "      <th>Occupation</th>\n",
       "      <th>Annual_Income</th>\n",
       "      <th>Monthly_Inhand_Salary</th>\n",
       "      <th>Num_Bank_Accounts</th>\n",
       "      <th>...</th>\n",
       "      <th>Credit_Mix</th>\n",
       "      <th>Outstanding_Debt</th>\n",
       "      <th>Credit_Utilization_Ratio</th>\n",
       "      <th>Credit_History_Age</th>\n",
       "      <th>Payment_of_Min_Amount</th>\n",
       "      <th>Total_EMI_per_month</th>\n",
       "      <th>Amount_invested_monthly</th>\n",
       "      <th>Payment_Behaviour</th>\n",
       "      <th>Monthly_Balance</th>\n",
       "      <th>Credit_Score</th>\n",
       "    </tr>\n",
       "  </thead>\n",
       "  <tbody>\n",
       "    <tr>\n",
       "      <th>0</th>\n",
       "      <td>0x1628a</td>\n",
       "      <td>CUS_0x1000</td>\n",
       "      <td>January</td>\n",
       "      <td>Alistair Barrf</td>\n",
       "      <td>17</td>\n",
       "      <td>913-74-1218</td>\n",
       "      <td>Lawyer</td>\n",
       "      <td>30625.94</td>\n",
       "      <td>2706.161667</td>\n",
       "      <td>6</td>\n",
       "      <td>...</td>\n",
       "      <td>Bad</td>\n",
       "      <td>1562.91</td>\n",
       "      <td>26.612093</td>\n",
       "      <td>10 Years and 2 Months</td>\n",
       "      <td>Yes</td>\n",
       "      <td>42.941090</td>\n",
       "      <td>244.75028300769162</td>\n",
       "      <td>Low_spent_Large_value_payments</td>\n",
       "      <td>252.9247932365056</td>\n",
       "      <td>Standard</td>\n",
       "    </tr>\n",
       "    <tr>\n",
       "      <th>1</th>\n",
       "      <td>0x1628c</td>\n",
       "      <td>CUS_0x1000</td>\n",
       "      <td>March</td>\n",
       "      <td>Alistair Barrf</td>\n",
       "      <td>17_</td>\n",
       "      <td>913-74-1218</td>\n",
       "      <td>Lawyer</td>\n",
       "      <td>30625.94_</td>\n",
       "      <td>2706.161667</td>\n",
       "      <td>6</td>\n",
       "      <td>...</td>\n",
       "      <td>Bad</td>\n",
       "      <td>1562.91</td>\n",
       "      <td>38.285928</td>\n",
       "      <td>10 Years and 4 Months</td>\n",
       "      <td>Yes</td>\n",
       "      <td>42.941090</td>\n",
       "      <td>109.05651876486915</td>\n",
       "      <td>High_spent_Medium_value_payments</td>\n",
       "      <td>368.61855747932816</td>\n",
       "      <td>Poor</td>\n",
       "    </tr>\n",
       "    <tr>\n",
       "      <th>2</th>\n",
       "      <td>0x1628d</td>\n",
       "      <td>CUS_0x1000</td>\n",
       "      <td>April</td>\n",
       "      <td>Alistair Barrf</td>\n",
       "      <td>17</td>\n",
       "      <td>913-74-1218</td>\n",
       "      <td>Lawyer</td>\n",
       "      <td>30625.94</td>\n",
       "      <td>2706.161667</td>\n",
       "      <td>6</td>\n",
       "      <td>...</td>\n",
       "      <td>Bad</td>\n",
       "      <td>1562.91</td>\n",
       "      <td>32.843081</td>\n",
       "      <td>10 Years and 5 Months</td>\n",
       "      <td>Yes</td>\n",
       "      <td>42.941090</td>\n",
       "      <td>87.90990881495769</td>\n",
       "      <td>!@9#%8</td>\n",
       "      <td>419.7651674292397</td>\n",
       "      <td>Poor</td>\n",
       "    </tr>\n",
       "    <tr>\n",
       "      <th>3</th>\n",
       "      <td>0x1628e</td>\n",
       "      <td>CUS_0x1000</td>\n",
       "      <td>May</td>\n",
       "      <td>Alistair Barrf</td>\n",
       "      <td>17</td>\n",
       "      <td>913-74-1218</td>\n",
       "      <td>Lawyer</td>\n",
       "      <td>30625.94</td>\n",
       "      <td>2706.161667</td>\n",
       "      <td>6</td>\n",
       "      <td>...</td>\n",
       "      <td>Bad</td>\n",
       "      <td>1562.91</td>\n",
       "      <td>32.330508</td>\n",
       "      <td>10 Years and 6 Months</td>\n",
       "      <td>Yes</td>\n",
       "      <td>42.941090</td>\n",
       "      <td>191.8347674990596</td>\n",
       "      <td>Low_spent_Large_value_payments</td>\n",
       "      <td>305.8403087451377</td>\n",
       "      <td>Poor</td>\n",
       "    </tr>\n",
       "    <tr>\n",
       "      <th>4</th>\n",
       "      <td>0x1628f</td>\n",
       "      <td>CUS_0x1000</td>\n",
       "      <td>June</td>\n",
       "      <td>Alistair Barrf</td>\n",
       "      <td>18</td>\n",
       "      <td>913-74-1218</td>\n",
       "      <td>Lawyer</td>\n",
       "      <td>30625.94</td>\n",
       "      <td>2706.161667</td>\n",
       "      <td>6</td>\n",
       "      <td>...</td>\n",
       "      <td>Bad</td>\n",
       "      <td>1562.91</td>\n",
       "      <td>40.082272</td>\n",
       "      <td>10 Years and 7 Months</td>\n",
       "      <td>Yes</td>\n",
       "      <td>42.941090</td>\n",
       "      <td>114.80240059146288</td>\n",
       "      <td>High_spent_Small_value_payments</td>\n",
       "      <td>372.87267565273436</td>\n",
       "      <td>Poor</td>\n",
       "    </tr>\n",
       "    <tr>\n",
       "      <th>...</th>\n",
       "      <td>...</td>\n",
       "      <td>...</td>\n",
       "      <td>...</td>\n",
       "      <td>...</td>\n",
       "      <td>...</td>\n",
       "      <td>...</td>\n",
       "      <td>...</td>\n",
       "      <td>...</td>\n",
       "      <td>...</td>\n",
       "      <td>...</td>\n",
       "      <td>...</td>\n",
       "      <td>...</td>\n",
       "      <td>...</td>\n",
       "      <td>...</td>\n",
       "      <td>...</td>\n",
       "      <td>...</td>\n",
       "      <td>...</td>\n",
       "      <td>...</td>\n",
       "      <td>...</td>\n",
       "      <td>...</td>\n",
       "      <td>...</td>\n",
       "    </tr>\n",
       "    <tr>\n",
       "      <th>99995</th>\n",
       "      <td>0x25afd</td>\n",
       "      <td>CUS_0xffd</td>\n",
       "      <td>April</td>\n",
       "      <td>Damouniq</td>\n",
       "      <td>29</td>\n",
       "      <td>832-88-8320</td>\n",
       "      <td>Scientist</td>\n",
       "      <td>41398.44</td>\n",
       "      <td>3749.870000</td>\n",
       "      <td>8</td>\n",
       "      <td>...</td>\n",
       "      <td>_</td>\n",
       "      <td>1701.88</td>\n",
       "      <td>36.384516</td>\n",
       "      <td>18 Years and 5 Months</td>\n",
       "      <td>Yes</td>\n",
       "      <td>182.976649</td>\n",
       "      <td>234.3549398533252</td>\n",
       "      <td>!@9#%8</td>\n",
       "      <td>247.655411</td>\n",
       "      <td>Standard</td>\n",
       "    </tr>\n",
       "    <tr>\n",
       "      <th>99996</th>\n",
       "      <td>0x25afe</td>\n",
       "      <td>CUS_0xffd</td>\n",
       "      <td>May</td>\n",
       "      <td>Damouniq</td>\n",
       "      <td>29</td>\n",
       "      <td>832-88-8320</td>\n",
       "      <td>_______</td>\n",
       "      <td>41398.44</td>\n",
       "      <td>3749.870000</td>\n",
       "      <td>8</td>\n",
       "      <td>...</td>\n",
       "      <td>Standard</td>\n",
       "      <td>1701.88</td>\n",
       "      <td>26.166508</td>\n",
       "      <td>18 Years and 6 Months</td>\n",
       "      <td>Yes</td>\n",
       "      <td>182.976649</td>\n",
       "      <td>104.6294735081563</td>\n",
       "      <td>High_spent_Medium_value_payments</td>\n",
       "      <td>337.380877</td>\n",
       "      <td>Standard</td>\n",
       "    </tr>\n",
       "    <tr>\n",
       "      <th>99997</th>\n",
       "      <td>0x25b00</td>\n",
       "      <td>CUS_0xffd</td>\n",
       "      <td>July</td>\n",
       "      <td>Damouniq</td>\n",
       "      <td>30_</td>\n",
       "      <td>832-88-8320</td>\n",
       "      <td>Scientist</td>\n",
       "      <td>41398.44_</td>\n",
       "      <td>3749.870000</td>\n",
       "      <td>8</td>\n",
       "      <td>...</td>\n",
       "      <td>Standard</td>\n",
       "      <td>1701.88</td>\n",
       "      <td>33.916363</td>\n",
       "      <td>18 Years and 8 Months</td>\n",
       "      <td>Yes</td>\n",
       "      <td>182.976649</td>\n",
       "      <td>257.98969352901736</td>\n",
       "      <td>High_spent_Small_value_payments</td>\n",
       "      <td>194.020657</td>\n",
       "      <td>Good</td>\n",
       "    </tr>\n",
       "    <tr>\n",
       "      <th>99998</th>\n",
       "      <td>0x25b01</td>\n",
       "      <td>CUS_0xffd</td>\n",
       "      <td>August</td>\n",
       "      <td>Damouniq</td>\n",
       "      <td>30</td>\n",
       "      <td>832-88-8320</td>\n",
       "      <td>Scientist</td>\n",
       "      <td>41398.44</td>\n",
       "      <td>3749.870000</td>\n",
       "      <td>8</td>\n",
       "      <td>...</td>\n",
       "      <td>Standard</td>\n",
       "      <td>1701.88</td>\n",
       "      <td>39.916655</td>\n",
       "      <td>18 Years and 9 Months</td>\n",
       "      <td>Yes</td>\n",
       "      <td>182.976649</td>\n",
       "      <td>42.57571978536272</td>\n",
       "      <td>High_spent_Large_value_payments</td>\n",
       "      <td>389.434631</td>\n",
       "      <td>Good</td>\n",
       "    </tr>\n",
       "    <tr>\n",
       "      <th>99999</th>\n",
       "      <td>0x25aff</td>\n",
       "      <td>CUS_0xffd</td>\n",
       "      <td>June</td>\n",
       "      <td>NaN</td>\n",
       "      <td>29</td>\n",
       "      <td>832-88-8320</td>\n",
       "      <td>Scientist</td>\n",
       "      <td>41398.44</td>\n",
       "      <td>3749.870000</td>\n",
       "      <td>8</td>\n",
       "      <td>...</td>\n",
       "      <td>Standard</td>\n",
       "      <td>1701.88</td>\n",
       "      <td>36.970072</td>\n",
       "      <td>18 Years and 7 Months</td>\n",
       "      <td>Yes</td>\n",
       "      <td>182.976649</td>\n",
       "      <td>47.007378731604064</td>\n",
       "      <td>High_spent_Medium_value_payments</td>\n",
       "      <td>395.002972</td>\n",
       "      <td>Standard</td>\n",
       "    </tr>\n",
       "  </tbody>\n",
       "</table>\n",
       "<p>100000 rows × 28 columns</p>\n",
       "</div>"
      ],
      "text/plain": [
       "            ID Customer_ID    Month            Name  Age          SSN  \\\n",
       "0      0x1628a  CUS_0x1000  January  Alistair Barrf   17  913-74-1218   \n",
       "1      0x1628c  CUS_0x1000    March  Alistair Barrf  17_  913-74-1218   \n",
       "2      0x1628d  CUS_0x1000    April  Alistair Barrf   17  913-74-1218   \n",
       "3      0x1628e  CUS_0x1000      May  Alistair Barrf   17  913-74-1218   \n",
       "4      0x1628f  CUS_0x1000     June  Alistair Barrf   18  913-74-1218   \n",
       "...        ...         ...      ...             ...  ...          ...   \n",
       "99995  0x25afd   CUS_0xffd    April        Damouniq   29  832-88-8320   \n",
       "99996  0x25afe   CUS_0xffd      May        Damouniq   29  832-88-8320   \n",
       "99997  0x25b00   CUS_0xffd     July        Damouniq  30_  832-88-8320   \n",
       "99998  0x25b01   CUS_0xffd   August        Damouniq   30  832-88-8320   \n",
       "99999  0x25aff   CUS_0xffd     June             NaN   29  832-88-8320   \n",
       "\n",
       "      Occupation Annual_Income  Monthly_Inhand_Salary  Num_Bank_Accounts  ...  \\\n",
       "0         Lawyer      30625.94            2706.161667                  6  ...   \n",
       "1         Lawyer     30625.94_            2706.161667                  6  ...   \n",
       "2         Lawyer      30625.94            2706.161667                  6  ...   \n",
       "3         Lawyer      30625.94            2706.161667                  6  ...   \n",
       "4         Lawyer      30625.94            2706.161667                  6  ...   \n",
       "...          ...           ...                    ...                ...  ...   \n",
       "99995  Scientist      41398.44            3749.870000                  8  ...   \n",
       "99996    _______      41398.44            3749.870000                  8  ...   \n",
       "99997  Scientist     41398.44_            3749.870000                  8  ...   \n",
       "99998  Scientist      41398.44            3749.870000                  8  ...   \n",
       "99999  Scientist      41398.44            3749.870000                  8  ...   \n",
       "\n",
       "       Credit_Mix  Outstanding_Debt Credit_Utilization_Ratio  \\\n",
       "0             Bad           1562.91                26.612093   \n",
       "1             Bad           1562.91                38.285928   \n",
       "2             Bad           1562.91                32.843081   \n",
       "3             Bad           1562.91                32.330508   \n",
       "4             Bad           1562.91                40.082272   \n",
       "...           ...               ...                      ...   \n",
       "99995           _           1701.88                36.384516   \n",
       "99996    Standard           1701.88                26.166508   \n",
       "99997    Standard           1701.88                33.916363   \n",
       "99998    Standard           1701.88                39.916655   \n",
       "99999    Standard           1701.88                36.970072   \n",
       "\n",
       "          Credit_History_Age  Payment_of_Min_Amount Total_EMI_per_month  \\\n",
       "0      10 Years and 2 Months                    Yes           42.941090   \n",
       "1      10 Years and 4 Months                    Yes           42.941090   \n",
       "2      10 Years and 5 Months                    Yes           42.941090   \n",
       "3      10 Years and 6 Months                    Yes           42.941090   \n",
       "4      10 Years and 7 Months                    Yes           42.941090   \n",
       "...                      ...                    ...                 ...   \n",
       "99995  18 Years and 5 Months                    Yes          182.976649   \n",
       "99996  18 Years and 6 Months                    Yes          182.976649   \n",
       "99997  18 Years and 8 Months                    Yes          182.976649   \n",
       "99998  18 Years and 9 Months                    Yes          182.976649   \n",
       "99999  18 Years and 7 Months                    Yes          182.976649   \n",
       "\n",
       "      Amount_invested_monthly                 Payment_Behaviour  \\\n",
       "0          244.75028300769162    Low_spent_Large_value_payments   \n",
       "1          109.05651876486915  High_spent_Medium_value_payments   \n",
       "2           87.90990881495769                            !@9#%8   \n",
       "3           191.8347674990596    Low_spent_Large_value_payments   \n",
       "4          114.80240059146288   High_spent_Small_value_payments   \n",
       "...                       ...                               ...   \n",
       "99995       234.3549398533252                            !@9#%8   \n",
       "99996       104.6294735081563  High_spent_Medium_value_payments   \n",
       "99997      257.98969352901736   High_spent_Small_value_payments   \n",
       "99998       42.57571978536272   High_spent_Large_value_payments   \n",
       "99999      47.007378731604064  High_spent_Medium_value_payments   \n",
       "\n",
       "          Monthly_Balance Credit_Score  \n",
       "0       252.9247932365056     Standard  \n",
       "1      368.61855747932816         Poor  \n",
       "2       419.7651674292397         Poor  \n",
       "3       305.8403087451377         Poor  \n",
       "4      372.87267565273436         Poor  \n",
       "...                   ...          ...  \n",
       "99995          247.655411     Standard  \n",
       "99996          337.380877     Standard  \n",
       "99997          194.020657         Good  \n",
       "99998          389.434631         Good  \n",
       "99999          395.002972     Standard  \n",
       "\n",
       "[100000 rows x 28 columns]"
      ]
     },
     "execution_count": 9,
     "metadata": {},
     "output_type": "execute_result"
    }
   ],
   "source": [
    "print(df[\"Monthly_Inhand_Salary\"].isna().sum())\n",
    "df.sort_values(by=['Customer_ID', \"Monthly_Inhand_Salary\"])"
   ]
  },
  {
   "cell_type": "markdown",
   "metadata": {},
   "source": [
    "Fill missing names by existing values"
   ]
  },
  {
   "cell_type": "code",
   "execution_count": 10,
   "metadata": {},
   "outputs": [
    {
     "name": "stderr",
     "output_type": "stream",
     "text": [
      "/var/folders/yc/k6jwrlhs0gldx0wl0rtkrrxh0000gn/T/ipykernel_43914/333661202.py:5: FutureWarning: SeriesGroupBy.fillna is deprecated and will be removed in a future version. Use obj.ffill() or obj.bfill() for forward or backward filling instead. If you want to fill with a single value, use Series.fillna instead\n",
      "  df['Name'] = df.groupby('Customer_ID')['Name'].fillna(method='ffill')\n",
      "/var/folders/yc/k6jwrlhs0gldx0wl0rtkrrxh0000gn/T/ipykernel_43914/333661202.py:5: FutureWarning: Series.fillna with 'method' is deprecated and will raise in a future version. Use obj.ffill() or obj.bfill() instead.\n",
      "  df['Name'] = df.groupby('Customer_ID')['Name'].fillna(method='ffill')\n",
      "/var/folders/yc/k6jwrlhs0gldx0wl0rtkrrxh0000gn/T/ipykernel_43914/333661202.py:8: FutureWarning: SeriesGroupBy.fillna is deprecated and will be removed in a future version. Use obj.ffill() or obj.bfill() for forward or backward filling instead. If you want to fill with a single value, use Series.fillna instead\n",
      "  df['Name'] = df.groupby('Customer_ID')['Name'].fillna(method='bfill')\n",
      "/var/folders/yc/k6jwrlhs0gldx0wl0rtkrrxh0000gn/T/ipykernel_43914/333661202.py:8: FutureWarning: Series.fillna with 'method' is deprecated and will raise in a future version. Use obj.ffill() or obj.bfill() instead.\n",
      "  df['Name'] = df.groupby('Customer_ID')['Name'].fillna(method='bfill')\n"
     ]
    }
   ],
   "source": [
    "# Sort the DataFrame by 'Customer_ID' and any other relevant columns\n",
    "df = df.sort_values(by=['Customer_ID', \"Name\"])\n",
    "\n",
    "# Forward fill missing values in the 'monthly_inhad_salary' column within each group of 'Customer_ID'\n",
    "df['Name'] = df.groupby('Customer_ID')['Name'].fillna(method='ffill')\n",
    "\n",
    "# Backward fill for any remaining missing values at the beginning of each group\n",
    "df['Name'] = df.groupby('Customer_ID')['Name'].fillna(method='bfill')\n",
    "\n",
    "# Reset index if needed\n",
    "df = df.reset_index(drop=True)"
   ]
  },
  {
   "cell_type": "code",
   "execution_count": 11,
   "metadata": {},
   "outputs": [
    {
     "name": "stderr",
     "output_type": "stream",
     "text": [
      "/var/folders/yc/k6jwrlhs0gldx0wl0rtkrrxh0000gn/T/ipykernel_43914/339956051.py:5: FutureWarning: SeriesGroupBy.fillna is deprecated and will be removed in a future version. Use obj.ffill() or obj.bfill() for forward or backward filling instead. If you want to fill with a single value, use Series.fillna instead\n",
      "  df['Occupation'] = df.groupby('Customer_ID')['Occupation'].fillna(method='ffill')\n",
      "/var/folders/yc/k6jwrlhs0gldx0wl0rtkrrxh0000gn/T/ipykernel_43914/339956051.py:5: FutureWarning: Series.fillna with 'method' is deprecated and will raise in a future version. Use obj.ffill() or obj.bfill() instead.\n",
      "  df['Occupation'] = df.groupby('Customer_ID')['Occupation'].fillna(method='ffill')\n",
      "/var/folders/yc/k6jwrlhs0gldx0wl0rtkrrxh0000gn/T/ipykernel_43914/339956051.py:8: FutureWarning: SeriesGroupBy.fillna is deprecated and will be removed in a future version. Use obj.ffill() or obj.bfill() for forward or backward filling instead. If you want to fill with a single value, use Series.fillna instead\n",
      "  df['Occupation'] = df.groupby('Customer_ID')['Occupation'].fillna(method='bfill')\n",
      "/var/folders/yc/k6jwrlhs0gldx0wl0rtkrrxh0000gn/T/ipykernel_43914/339956051.py:8: FutureWarning: Series.fillna with 'method' is deprecated and will raise in a future version. Use obj.ffill() or obj.bfill() instead.\n",
      "  df['Occupation'] = df.groupby('Customer_ID')['Occupation'].fillna(method='bfill')\n"
     ]
    }
   ],
   "source": [
    "# Sort the DataFrame by 'Customer_ID' and any other relevant columns\n",
    "df = df.sort_values(by=['Customer_ID', \"Occupation\"])\n",
    "\n",
    "# Forward fill missing values in the 'monthly_inhad_salary' column within each group of 'Customer_ID'\n",
    "df['Occupation'] = df.groupby('Customer_ID')['Occupation'].fillna(method='ffill')\n",
    "\n",
    "# Backward fill for any remaining missing values at the beginning of each group\n",
    "df['Occupation'] = df.groupby('Customer_ID')['Occupation'].fillna(method='bfill')\n",
    "\n",
    "# Reset index if needed\n",
    "df = df.reset_index(drop=True)"
   ]
  },
  {
   "cell_type": "code",
   "execution_count": 12,
   "metadata": {},
   "outputs": [],
   "source": [
    "# clean Age column by removing _ symbol\n",
    "\n",
    "df[\"Age\"]=df[\"Age\"].str.replace(\"_\",\"\")\n"
   ]
  },
  {
   "cell_type": "code",
   "execution_count": 13,
   "metadata": {},
   "outputs": [
    {
     "data": {
      "text/plain": [
       "count    100000.000000\n",
       "mean        110.649700\n",
       "std         686.244717\n",
       "min        -500.000000\n",
       "25%          24.000000\n",
       "50%          33.000000\n",
       "75%          42.000000\n",
       "max        8698.000000\n",
       "Name: Age, dtype: float64"
      ]
     },
     "execution_count": 13,
     "metadata": {},
     "output_type": "execute_result"
    }
   ],
   "source": [
    "# transform Age to numeric values \n",
    "\n",
    "df[\"Age\"] = pd.to_numeric(df[\"Age\"],errors='coerce')\n",
    "df[\"Age\"].describe()"
   ]
  },
  {
   "cell_type": "code",
   "execution_count": 14,
   "metadata": {},
   "outputs": [
    {
     "data": {
      "text/plain": [
       "count    100000.000000\n",
       "mean         33.312560\n",
       "std          10.763924\n",
       "min          14.000000\n",
       "25%          24.000000\n",
       "50%          33.000000\n",
       "75%          42.000000\n",
       "max          56.000000\n",
       "Name: Age, dtype: float64"
      ]
     },
     "execution_count": 14,
     "metadata": {},
     "output_type": "execute_result"
    }
   ],
   "source": [
    "# we have a specific case here: for one client we have several lines, and one of values can be super weird\n",
    "# for example, Paul has Age values as 26, 26, 26, 1891, 27\n",
    "# we want to replace the weird value by the median\n",
    "\n",
    "# replace extreme values by median ones\n",
    "\n",
    "df[\"Age\"] = df.groupby([\"Customer_ID\"])[\"Age\"].transform(lambda x: x.median())\n",
    "df[\"Age\"].describe()"
   ]
  },
  {
   "cell_type": "code",
   "execution_count": 15,
   "metadata": {},
   "outputs": [],
   "source": [
    "df[\"Annual_Income\"] = df[\"Annual_Income\"].str.replace(\"_\",\"\")\n",
    "df[\"Annual_Income\"] = df.Annual_Income.astype(float)"
   ]
  },
  {
   "cell_type": "code",
   "execution_count": 16,
   "metadata": {},
   "outputs": [
    {
     "data": {
      "text/plain": [
       "count    1.000000e+05\n",
       "mean     1.764157e+05\n",
       "std      1.429618e+06\n",
       "min      7.005930e+03\n",
       "25%      1.945750e+04\n",
       "50%      3.757861e+04\n",
       "75%      7.279092e+04\n",
       "max      2.419806e+07\n",
       "Name: Annual_Income, dtype: float64"
      ]
     },
     "execution_count": 16,
     "metadata": {},
     "output_type": "execute_result"
    }
   ],
   "source": [
    "df[\"Annual_Income\"].describe()"
   ]
  },
  {
   "cell_type": "code",
   "execution_count": 17,
   "metadata": {},
   "outputs": [
    {
     "data": {
      "text/plain": [
       "Occupation\n",
       "Unknown          7062\n",
       "Lawyer           6575\n",
       "Architect        6355\n",
       "Engineer         6350\n",
       "Scientist        6299\n",
       "Mechanic         6291\n",
       "Accountant       6271\n",
       "Developer        6235\n",
       "Media_Manager    6232\n",
       "Teacher          6215\n",
       "Entrepreneur     6174\n",
       "Doctor           6087\n",
       "Journalist       6085\n",
       "Manager          5973\n",
       "Musician         5911\n",
       "Writer           5885\n",
       "Name: count, dtype: int64"
      ]
     },
     "execution_count": 17,
     "metadata": {},
     "output_type": "execute_result"
    }
   ],
   "source": [
    "df[\"Occupation\"] = df[\"Occupation\"].apply(lambda x: 'Unknown' if x == '_______' else x)\n",
    "df[\"Occupation\"].value_counts()"
   ]
  },
  {
   "cell_type": "code",
   "execution_count": 18,
   "metadata": {},
   "outputs": [
    {
     "data": {
      "text/html": [
       "<div>\n",
       "<style scoped>\n",
       "    .dataframe tbody tr th:only-of-type {\n",
       "        vertical-align: middle;\n",
       "    }\n",
       "\n",
       "    .dataframe tbody tr th {\n",
       "        vertical-align: top;\n",
       "    }\n",
       "\n",
       "    .dataframe thead th {\n",
       "        text-align: right;\n",
       "    }\n",
       "</style>\n",
       "<table border=\"1\" class=\"dataframe\">\n",
       "  <thead>\n",
       "    <tr style=\"text-align: right;\">\n",
       "      <th></th>\n",
       "      <th>count</th>\n",
       "      <th>unique</th>\n",
       "      <th>top</th>\n",
       "      <th>freq</th>\n",
       "      <th>mean</th>\n",
       "      <th>std</th>\n",
       "      <th>min</th>\n",
       "      <th>25%</th>\n",
       "      <th>50%</th>\n",
       "      <th>75%</th>\n",
       "      <th>max</th>\n",
       "    </tr>\n",
       "  </thead>\n",
       "  <tbody>\n",
       "    <tr>\n",
       "      <th>Age</th>\n",
       "      <td>100000.0</td>\n",
       "      <td>NaN</td>\n",
       "      <td>NaN</td>\n",
       "      <td>NaN</td>\n",
       "      <td>33.31256</td>\n",
       "      <td>10.763924</td>\n",
       "      <td>14.0</td>\n",
       "      <td>24.0</td>\n",
       "      <td>33.0</td>\n",
       "      <td>42.0</td>\n",
       "      <td>56.0</td>\n",
       "    </tr>\n",
       "    <tr>\n",
       "      <th>Occupation</th>\n",
       "      <td>100000</td>\n",
       "      <td>16</td>\n",
       "      <td>Unknown</td>\n",
       "      <td>7062</td>\n",
       "      <td>NaN</td>\n",
       "      <td>NaN</td>\n",
       "      <td>NaN</td>\n",
       "      <td>NaN</td>\n",
       "      <td>NaN</td>\n",
       "      <td>NaN</td>\n",
       "      <td>NaN</td>\n",
       "    </tr>\n",
       "    <tr>\n",
       "      <th>Annual_Income</th>\n",
       "      <td>100000.0</td>\n",
       "      <td>NaN</td>\n",
       "      <td>NaN</td>\n",
       "      <td>NaN</td>\n",
       "      <td>176415.701298</td>\n",
       "      <td>1429618.051414</td>\n",
       "      <td>7005.93</td>\n",
       "      <td>19457.5</td>\n",
       "      <td>37578.61</td>\n",
       "      <td>72790.92</td>\n",
       "      <td>24198062.0</td>\n",
       "    </tr>\n",
       "    <tr>\n",
       "      <th>Credit_Score</th>\n",
       "      <td>100000</td>\n",
       "      <td>3</td>\n",
       "      <td>Standard</td>\n",
       "      <td>53174</td>\n",
       "      <td>NaN</td>\n",
       "      <td>NaN</td>\n",
       "      <td>NaN</td>\n",
       "      <td>NaN</td>\n",
       "      <td>NaN</td>\n",
       "      <td>NaN</td>\n",
       "      <td>NaN</td>\n",
       "    </tr>\n",
       "  </tbody>\n",
       "</table>\n",
       "</div>"
      ],
      "text/plain": [
       "                  count unique       top   freq           mean  \\\n",
       "Age            100000.0    NaN       NaN    NaN       33.31256   \n",
       "Occupation       100000     16   Unknown   7062            NaN   \n",
       "Annual_Income  100000.0    NaN       NaN    NaN  176415.701298   \n",
       "Credit_Score     100000      3  Standard  53174            NaN   \n",
       "\n",
       "                          std      min      25%       50%       75%  \\\n",
       "Age                 10.763924     14.0     24.0      33.0      42.0   \n",
       "Occupation                NaN      NaN      NaN       NaN       NaN   \n",
       "Annual_Income  1429618.051414  7005.93  19457.5  37578.61  72790.92   \n",
       "Credit_Score              NaN      NaN      NaN       NaN       NaN   \n",
       "\n",
       "                      max  \n",
       "Age                  56.0  \n",
       "Occupation            NaN  \n",
       "Annual_Income  24198062.0  \n",
       "Credit_Score          NaN  "
      ]
     },
     "execution_count": 18,
     "metadata": {},
     "output_type": "execute_result"
    }
   ],
   "source": [
    "df[[\"Age\", \"Occupation\", \"Annual_Income\", \"Credit_Score\"]].describe(include='all').T"
   ]
  },
  {
   "cell_type": "code",
   "execution_count": 19,
   "metadata": {},
   "outputs": [
    {
     "name": "stdout",
     "output_type": "stream",
     "text": [
      "36999.705\n"
     ]
    },
    {
     "data": {
      "text/plain": [
       "count    100000.000000\n",
       "mean      50505.123449\n",
       "std       38299.422093\n",
       "min        7005.930000\n",
       "25%       19342.972500\n",
       "50%       36999.705000\n",
       "75%       71683.470000\n",
       "max      179987.280000\n",
       "Name: Annual_Income, dtype: float64"
      ]
     },
     "execution_count": 19,
     "metadata": {},
     "output_type": "execute_result"
    }
   ],
   "source": [
    "df[\"Annual_Income\"] = df.groupby([\"Customer_ID\"])[\"Annual_Income\"].transform(lambda x: x.median())\n",
    "print(df[\"Annual_Income\"].median())\n",
    "df[\"Annual_Income\"].describe()\n"
   ]
  },
  {
   "cell_type": "markdown",
   "metadata": {},
   "source": [
    "## Correlation matrix"
   ]
  },
  {
   "cell_type": "markdown",
   "metadata": {},
   "source": [
    "# !!! ADDITIONAL TRANSFORMATIONS"
   ]
  },
  {
   "cell_type": "code",
   "execution_count": 20,
   "metadata": {},
   "outputs": [
    {
     "name": "stdout",
     "output_type": "stream",
     "text": [
      "18.0\n"
     ]
    },
    {
     "data": {
      "text/plain": [
       "count    100000.00000\n",
       "mean         21.06252\n",
       "std          14.76185\n",
       "min          -2.00000\n",
       "25%          10.00000\n",
       "50%          18.00000\n",
       "75%          28.00000\n",
       "max          62.50000\n",
       "Name: Delay_from_due_date, dtype: float64"
      ]
     },
     "execution_count": 20,
     "metadata": {},
     "output_type": "execute_result"
    }
   ],
   "source": [
    "df[\"Delay_from_due_date\"] = df.groupby([\"Customer_ID\"])[\"Delay_from_due_date\"].transform(lambda x: x.median())\n",
    "print(df[\"Delay_from_due_date\"].median())\n",
    "df[\"Delay_from_due_date\"].describe()"
   ]
  },
  {
   "cell_type": "code",
   "execution_count": 21,
   "metadata": {},
   "outputs": [
    {
     "name": "stdout",
     "output_type": "stream",
     "text": [
      "5.0\n"
     ]
    },
    {
     "data": {
      "text/plain": [
       "count    100000.000000\n",
       "mean          5.369600\n",
       "std           2.592987\n",
       "min          -1.000000\n",
       "25%           3.000000\n",
       "50%           5.000000\n",
       "75%           7.000000\n",
       "max          10.500000\n",
       "Name: Num_Bank_Accounts, dtype: float64"
      ]
     },
     "execution_count": 21,
     "metadata": {},
     "output_type": "execute_result"
    }
   ],
   "source": [
    "df[\"Num_Bank_Accounts\"] = df.groupby([\"Customer_ID\"])[\"Num_Bank_Accounts\"].transform(lambda x: x.median())\n",
    "print(df[\"Num_Bank_Accounts\"].median())\n",
    "df[\"Num_Bank_Accounts\"].describe()"
   ]
  },
  {
   "cell_type": "code",
   "execution_count": 22,
   "metadata": {},
   "outputs": [
    {
     "name": "stdout",
     "output_type": "stream",
     "text": [
      "5.0\n"
     ]
    },
    {
     "data": {
      "text/plain": [
       "count    100000.000000\n",
       "mean          5.534640\n",
       "std           2.066834\n",
       "min           0.500000\n",
       "25%           4.000000\n",
       "50%           5.000000\n",
       "75%           7.000000\n",
       "max          11.000000\n",
       "Name: Num_Credit_Card, dtype: float64"
      ]
     },
     "execution_count": 22,
     "metadata": {},
     "output_type": "execute_result"
    }
   ],
   "source": [
    "df[\"Num_Credit_Card\"] = df.groupby([\"Customer_ID\"])[\"Num_Credit_Card\"].transform(lambda x: x.median())\n",
    "print(df[\"Num_Credit_Card\"].median())\n",
    "df[\"Num_Credit_Card\"].describe()"
   ]
  },
  {
   "cell_type": "code",
   "execution_count": 23,
   "metadata": {},
   "outputs": [
    {
     "name": "stdout",
     "output_type": "stream",
     "text": [
      "13.0\n"
     ]
    },
    {
     "data": {
      "text/plain": [
       "count    100000.00000\n",
       "mean         14.53208\n",
       "std           8.74133\n",
       "min           1.00000\n",
       "25%           7.00000\n",
       "50%          13.00000\n",
       "75%          20.00000\n",
       "max          34.00000\n",
       "Name: Interest_Rate, dtype: float64"
      ]
     },
     "execution_count": 23,
     "metadata": {},
     "output_type": "execute_result"
    }
   ],
   "source": [
    "df[\"Interest_Rate\"] = df.groupby([\"Customer_ID\"])[\"Interest_Rate\"].transform(lambda x: x.median())\n",
    "print(df[\"Interest_Rate\"].median())\n",
    "df[\"Interest_Rate\"].describe()"
   ]
  },
  {
   "cell_type": "code",
   "execution_count": 24,
   "metadata": {},
   "outputs": [
    {
     "name": "stdout",
     "output_type": "stream",
     "text": [
      "5.0\n"
     ]
    },
    {
     "data": {
      "text/plain": [
       "count    100000.000000\n",
       "mean          5.794600\n",
       "std           3.831618\n",
       "min           0.000000\n",
       "25%           3.000000\n",
       "50%           5.000000\n",
       "75%           8.500000\n",
       "max          17.000000\n",
       "Name: Num_Credit_Inquiries, dtype: float64"
      ]
     },
     "execution_count": 24,
     "metadata": {},
     "output_type": "execute_result"
    }
   ],
   "source": [
    "df[\"Num_Credit_Inquiries\"] = df.groupby([\"Customer_ID\"])[\"Num_Credit_Inquiries\"].transform(lambda x: x.median())\n",
    "print(df[\"Num_Credit_Inquiries\"].median())\n",
    "df[\"Num_Credit_Inquiries\"].describe()"
   ]
  },
  {
   "cell_type": "code",
   "execution_count": 25,
   "metadata": {},
   "outputs": [
    {
     "name": "stdout",
     "output_type": "stream",
     "text": [
      "32.312731651890616\n"
     ]
    },
    {
     "data": {
      "text/plain": [
       "count    100000.000000\n",
       "mean         32.302328\n",
       "std           2.722979\n",
       "min          23.698861\n",
       "25%          30.346087\n",
       "50%          32.312732\n",
       "75%          34.196183\n",
       "max          43.774821\n",
       "Name: Credit_Utilization_Ratio, dtype: float64"
      ]
     },
     "execution_count": 25,
     "metadata": {},
     "output_type": "execute_result"
    }
   ],
   "source": [
    "df[\"Credit_Utilization_Ratio\"] = df.groupby([\"Customer_ID\"])[\"Credit_Utilization_Ratio\"].transform(lambda x: x.median())\n",
    "print(df[\"Credit_Utilization_Ratio\"].median())\n",
    "df[\"Credit_Utilization_Ratio\"].describe()"
   ]
  },
  {
   "cell_type": "code",
   "execution_count": 26,
   "metadata": {},
   "outputs": [
    {
     "name": "stdout",
     "output_type": "stream",
     "text": [
      "66.91501714279147\n"
     ]
    },
    {
     "data": {
      "text/plain": [
       "count    100000.000000\n",
       "mean        109.924806\n",
       "std         236.225101\n",
       "min           0.000000\n",
       "25%          29.524253\n",
       "50%          66.915017\n",
       "75%         148.099519\n",
       "max       21627.117104\n",
       "Name: Total_EMI_per_month, dtype: float64"
      ]
     },
     "execution_count": 26,
     "metadata": {},
     "output_type": "execute_result"
    }
   ],
   "source": [
    "df[\"Total_EMI_per_month\"] = df.groupby([\"Customer_ID\"])[\"Total_EMI_per_month\"].transform(lambda x: x.median())\n",
    "print(df[\"Total_EMI_per_month\"].median())\n",
    "df[\"Total_EMI_per_month\"].describe()"
   ]
  },
  {
   "cell_type": "code",
   "execution_count": 27,
   "metadata": {},
   "outputs": [],
   "source": [
    "# df.to_csv('/Users/annaborodina/Desktop/Final Project/data.csv', index=False)"
   ]
  },
  {
   "cell_type": "code",
   "execution_count": 28,
   "metadata": {},
   "outputs": [],
   "source": [
    "# Select columns with numerical data\n",
    "\n",
    "num_columns = df[['Age', 'Annual_Income', 'Monthly_Inhand_Salary', 'Num_Bank_Accounts', 'Num_Credit_Card', 'Interest_Rate', 'Delay_from_due_date', 'Num_Credit_Inquiries', 'Credit_Utilization_Ratio', 'Total_EMI_per_month', 'Credit_Score']]"
   ]
  },
  {
   "cell_type": "code",
   "execution_count": 29,
   "metadata": {},
   "outputs": [
    {
     "data": {
      "text/plain": [
       "Credit_Score\n",
       "2    53174\n",
       "1    28998\n",
       "3    17828\n",
       "Name: count, dtype: int64"
      ]
     },
     "execution_count": 29,
     "metadata": {},
     "output_type": "execute_result"
    }
   ],
   "source": [
    "# transform credit score from text labels into numbers (3 = Good, 2 = Standard, 1 = Poor)\n",
    "\n",
    "num_columns2 = num_columns.copy()\n",
    "num_columns2[\"Credit_Score\"] = num_columns[\"Credit_Score\"].apply(lambda x: '1' if x == 'Poor' else x)\n",
    "num_columns2[\"Credit_Score\"] = num_columns2[\"Credit_Score\"].apply(lambda x: '2' if x == 'Standard' else x)\n",
    "num_columns2[\"Credit_Score\"] = num_columns2[\"Credit_Score\"].apply(lambda x: '3' if x == 'Good' else x)\n",
    "\n",
    "\n",
    "num_columns2.head()\n",
    "num_columns2[\"Credit_Score\"].value_counts()\n"
   ]
  },
  {
   "cell_type": "code",
   "execution_count": 30,
   "metadata": {},
   "outputs": [
    {
     "data": {
      "text/html": [
       "<div>\n",
       "<style scoped>\n",
       "    .dataframe tbody tr th:only-of-type {\n",
       "        vertical-align: middle;\n",
       "    }\n",
       "\n",
       "    .dataframe tbody tr th {\n",
       "        vertical-align: top;\n",
       "    }\n",
       "\n",
       "    .dataframe thead th {\n",
       "        text-align: right;\n",
       "    }\n",
       "</style>\n",
       "<table border=\"1\" class=\"dataframe\">\n",
       "  <thead>\n",
       "    <tr style=\"text-align: right;\">\n",
       "      <th></th>\n",
       "      <th>Age</th>\n",
       "      <th>Annual_Income</th>\n",
       "      <th>Monthly_Inhand_Salary</th>\n",
       "      <th>Num_Bank_Accounts</th>\n",
       "      <th>Num_Credit_Card</th>\n",
       "      <th>Interest_Rate</th>\n",
       "      <th>Delay_from_due_date</th>\n",
       "      <th>Num_Credit_Inquiries</th>\n",
       "      <th>Credit_Utilization_Ratio</th>\n",
       "      <th>Total_EMI_per_month</th>\n",
       "      <th>Credit_Score</th>\n",
       "    </tr>\n",
       "  </thead>\n",
       "  <tbody>\n",
       "    <tr>\n",
       "      <th>Age</th>\n",
       "      <td>1.000000</td>\n",
       "      <td>0.091757</td>\n",
       "      <td>0.090940</td>\n",
       "      <td>-0.190783</td>\n",
       "      <td>-0.148335</td>\n",
       "      <td>-0.217855</td>\n",
       "      <td>-0.175285</td>\n",
       "      <td>-0.256453</td>\n",
       "      <td>0.050694</td>\n",
       "      <td>-0.028358</td>\n",
       "      <td>0.160212</td>\n",
       "    </tr>\n",
       "    <tr>\n",
       "      <th>Annual_Income</th>\n",
       "      <td>0.091757</td>\n",
       "      <td>1.000000</td>\n",
       "      <td>0.998237</td>\n",
       "      <td>-0.284141</td>\n",
       "      <td>-0.217903</td>\n",
       "      <td>-0.302352</td>\n",
       "      <td>-0.251559</td>\n",
       "      <td>-0.281812</td>\n",
       "      <td>0.329588</td>\n",
       "      <td>0.251059</td>\n",
       "      <td>0.212606</td>\n",
       "    </tr>\n",
       "    <tr>\n",
       "      <th>Monthly_Inhand_Salary</th>\n",
       "      <td>0.090940</td>\n",
       "      <td>0.998237</td>\n",
       "      <td>1.000000</td>\n",
       "      <td>-0.283407</td>\n",
       "      <td>-0.217013</td>\n",
       "      <td>-0.301957</td>\n",
       "      <td>-0.250962</td>\n",
       "      <td>-0.281228</td>\n",
       "      <td>0.330133</td>\n",
       "      <td>0.245068</td>\n",
       "      <td>0.210195</td>\n",
       "    </tr>\n",
       "    <tr>\n",
       "      <th>Num_Bank_Accounts</th>\n",
       "      <td>-0.190783</td>\n",
       "      <td>-0.284141</td>\n",
       "      <td>-0.283407</td>\n",
       "      <td>1.000000</td>\n",
       "      <td>0.442127</td>\n",
       "      <td>0.584344</td>\n",
       "      <td>0.564095</td>\n",
       "      <td>0.523804</td>\n",
       "      <td>-0.134931</td>\n",
       "      <td>0.021848</td>\n",
       "      <td>-0.388122</td>\n",
       "    </tr>\n",
       "    <tr>\n",
       "      <th>Num_Credit_Card</th>\n",
       "      <td>-0.148335</td>\n",
       "      <td>-0.217903</td>\n",
       "      <td>-0.217013</td>\n",
       "      <td>0.442127</td>\n",
       "      <td>1.000000</td>\n",
       "      <td>0.497800</td>\n",
       "      <td>0.483162</td>\n",
       "      <td>0.462352</td>\n",
       "      <td>-0.100159</td>\n",
       "      <td>0.027330</td>\n",
       "      <td>-0.404315</td>\n",
       "    </tr>\n",
       "    <tr>\n",
       "      <th>Interest_Rate</th>\n",
       "      <td>-0.217855</td>\n",
       "      <td>-0.302352</td>\n",
       "      <td>-0.301957</td>\n",
       "      <td>0.584344</td>\n",
       "      <td>0.497800</td>\n",
       "      <td>1.000000</td>\n",
       "      <td>0.593120</td>\n",
       "      <td>0.638021</td>\n",
       "      <td>-0.140979</td>\n",
       "      <td>0.042430</td>\n",
       "      <td>-0.485409</td>\n",
       "    </tr>\n",
       "    <tr>\n",
       "      <th>Delay_from_due_date</th>\n",
       "      <td>-0.175285</td>\n",
       "      <td>-0.251559</td>\n",
       "      <td>-0.250962</td>\n",
       "      <td>0.564095</td>\n",
       "      <td>0.483162</td>\n",
       "      <td>0.593120</td>\n",
       "      <td>1.000000</td>\n",
       "      <td>0.547768</td>\n",
       "      <td>-0.116730</td>\n",
       "      <td>0.042825</td>\n",
       "      <td>-0.434845</td>\n",
       "    </tr>\n",
       "    <tr>\n",
       "      <th>Num_Credit_Inquiries</th>\n",
       "      <td>-0.256453</td>\n",
       "      <td>-0.281812</td>\n",
       "      <td>-0.281228</td>\n",
       "      <td>0.523804</td>\n",
       "      <td>0.462352</td>\n",
       "      <td>0.638021</td>\n",
       "      <td>0.547768</td>\n",
       "      <td>1.000000</td>\n",
       "      <td>-0.153373</td>\n",
       "      <td>0.053114</td>\n",
       "      <td>-0.441378</td>\n",
       "    </tr>\n",
       "    <tr>\n",
       "      <th>Credit_Utilization_Ratio</th>\n",
       "      <td>0.050694</td>\n",
       "      <td>0.329588</td>\n",
       "      <td>0.330133</td>\n",
       "      <td>-0.134931</td>\n",
       "      <td>-0.100159</td>\n",
       "      <td>-0.140979</td>\n",
       "      <td>-0.116730</td>\n",
       "      <td>-0.153373</td>\n",
       "      <td>1.000000</td>\n",
       "      <td>0.030721</td>\n",
       "      <td>0.096656</td>\n",
       "    </tr>\n",
       "    <tr>\n",
       "      <th>Total_EMI_per_month</th>\n",
       "      <td>-0.028358</td>\n",
       "      <td>0.251059</td>\n",
       "      <td>0.245068</td>\n",
       "      <td>0.021848</td>\n",
       "      <td>0.027330</td>\n",
       "      <td>0.042430</td>\n",
       "      <td>0.042825</td>\n",
       "      <td>0.053114</td>\n",
       "      <td>0.030721</td>\n",
       "      <td>1.000000</td>\n",
       "      <td>0.006420</td>\n",
       "    </tr>\n",
       "    <tr>\n",
       "      <th>Credit_Score</th>\n",
       "      <td>0.160212</td>\n",
       "      <td>0.212606</td>\n",
       "      <td>0.210195</td>\n",
       "      <td>-0.388122</td>\n",
       "      <td>-0.404315</td>\n",
       "      <td>-0.485409</td>\n",
       "      <td>-0.434845</td>\n",
       "      <td>-0.441378</td>\n",
       "      <td>0.096656</td>\n",
       "      <td>0.006420</td>\n",
       "      <td>1.000000</td>\n",
       "    </tr>\n",
       "  </tbody>\n",
       "</table>\n",
       "</div>"
      ],
      "text/plain": [
       "                               Age  Annual_Income  Monthly_Inhand_Salary  \\\n",
       "Age                       1.000000       0.091757               0.090940   \n",
       "Annual_Income             0.091757       1.000000               0.998237   \n",
       "Monthly_Inhand_Salary     0.090940       0.998237               1.000000   \n",
       "Num_Bank_Accounts        -0.190783      -0.284141              -0.283407   \n",
       "Num_Credit_Card          -0.148335      -0.217903              -0.217013   \n",
       "Interest_Rate            -0.217855      -0.302352              -0.301957   \n",
       "Delay_from_due_date      -0.175285      -0.251559              -0.250962   \n",
       "Num_Credit_Inquiries     -0.256453      -0.281812              -0.281228   \n",
       "Credit_Utilization_Ratio  0.050694       0.329588               0.330133   \n",
       "Total_EMI_per_month      -0.028358       0.251059               0.245068   \n",
       "Credit_Score              0.160212       0.212606               0.210195   \n",
       "\n",
       "                          Num_Bank_Accounts  Num_Credit_Card  Interest_Rate  \\\n",
       "Age                               -0.190783        -0.148335      -0.217855   \n",
       "Annual_Income                     -0.284141        -0.217903      -0.302352   \n",
       "Monthly_Inhand_Salary             -0.283407        -0.217013      -0.301957   \n",
       "Num_Bank_Accounts                  1.000000         0.442127       0.584344   \n",
       "Num_Credit_Card                    0.442127         1.000000       0.497800   \n",
       "Interest_Rate                      0.584344         0.497800       1.000000   \n",
       "Delay_from_due_date                0.564095         0.483162       0.593120   \n",
       "Num_Credit_Inquiries               0.523804         0.462352       0.638021   \n",
       "Credit_Utilization_Ratio          -0.134931        -0.100159      -0.140979   \n",
       "Total_EMI_per_month                0.021848         0.027330       0.042430   \n",
       "Credit_Score                      -0.388122        -0.404315      -0.485409   \n",
       "\n",
       "                          Delay_from_due_date  Num_Credit_Inquiries  \\\n",
       "Age                                 -0.175285             -0.256453   \n",
       "Annual_Income                       -0.251559             -0.281812   \n",
       "Monthly_Inhand_Salary               -0.250962             -0.281228   \n",
       "Num_Bank_Accounts                    0.564095              0.523804   \n",
       "Num_Credit_Card                      0.483162              0.462352   \n",
       "Interest_Rate                        0.593120              0.638021   \n",
       "Delay_from_due_date                  1.000000              0.547768   \n",
       "Num_Credit_Inquiries                 0.547768              1.000000   \n",
       "Credit_Utilization_Ratio            -0.116730             -0.153373   \n",
       "Total_EMI_per_month                  0.042825              0.053114   \n",
       "Credit_Score                        -0.434845             -0.441378   \n",
       "\n",
       "                          Credit_Utilization_Ratio  Total_EMI_per_month  \\\n",
       "Age                                       0.050694            -0.028358   \n",
       "Annual_Income                             0.329588             0.251059   \n",
       "Monthly_Inhand_Salary                     0.330133             0.245068   \n",
       "Num_Bank_Accounts                        -0.134931             0.021848   \n",
       "Num_Credit_Card                          -0.100159             0.027330   \n",
       "Interest_Rate                            -0.140979             0.042430   \n",
       "Delay_from_due_date                      -0.116730             0.042825   \n",
       "Num_Credit_Inquiries                     -0.153373             0.053114   \n",
       "Credit_Utilization_Ratio                  1.000000             0.030721   \n",
       "Total_EMI_per_month                       0.030721             1.000000   \n",
       "Credit_Score                              0.096656             0.006420   \n",
       "\n",
       "                          Credit_Score  \n",
       "Age                           0.160212  \n",
       "Annual_Income                 0.212606  \n",
       "Monthly_Inhand_Salary         0.210195  \n",
       "Num_Bank_Accounts            -0.388122  \n",
       "Num_Credit_Card              -0.404315  \n",
       "Interest_Rate                -0.485409  \n",
       "Delay_from_due_date          -0.434845  \n",
       "Num_Credit_Inquiries         -0.441378  \n",
       "Credit_Utilization_Ratio      0.096656  \n",
       "Total_EMI_per_month           0.006420  \n",
       "Credit_Score                  1.000000  "
      ]
     },
     "execution_count": 30,
     "metadata": {},
     "output_type": "execute_result"
    }
   ],
   "source": [
    "# build correlation matrix\n",
    "\n",
    "num_columns2.corr()"
   ]
  },
  {
   "cell_type": "code",
   "execution_count": 31,
   "metadata": {},
   "outputs": [
    {
     "data": {
      "text/plain": [
       "0        11.317114\n",
       "1        11.317114\n",
       "2        11.317114\n",
       "3        11.317114\n",
       "4        11.317114\n",
       "           ...    \n",
       "99995    11.039967\n",
       "99996    11.039967\n",
       "99997    11.039967\n",
       "99998    11.039967\n",
       "99999    11.039967\n",
       "Length: 100000, dtype: float64"
      ]
     },
     "execution_count": 31,
     "metadata": {},
     "output_type": "execute_result"
    }
   ],
   "source": [
    "df['Annual_Income']/df['Monthly_Inhand_Salary']"
   ]
  },
  {
   "cell_type": "code",
   "execution_count": 32,
   "metadata": {},
   "outputs": [
    {
     "data": {
      "image/png": "[encoded data removed]",
      "text/plain": [
       "<Figure size 640x480 with 2 Axes>"
      ]
     },
     "metadata": {},
     "output_type": "display_data"
    }
   ],
   "source": [
    "# build heat map of correlation matrix\n",
    "\n",
    "sns.heatmap(num_columns2.corr()) ;"
   ]
  },
  {
   "cell_type": "code",
   "execution_count": 33,
   "metadata": {},
   "outputs": [
    {
     "data": {
      "text/html": [
       "<div>\n",
       "<style scoped>\n",
       "    .dataframe tbody tr th:only-of-type {\n",
       "        vertical-align: middle;\n",
       "    }\n",
       "\n",
       "    .dataframe tbody tr th {\n",
       "        vertical-align: top;\n",
       "    }\n",
       "\n",
       "    .dataframe thead th {\n",
       "        text-align: right;\n",
       "    }\n",
       "</style>\n",
       "<table border=\"1\" class=\"dataframe\">\n",
       "  <thead>\n",
       "    <tr style=\"text-align: right;\">\n",
       "      <th></th>\n",
       "      <th>count</th>\n",
       "      <th>mean</th>\n",
       "      <th>std</th>\n",
       "      <th>min</th>\n",
       "      <th>25%</th>\n",
       "      <th>50%</th>\n",
       "      <th>75%</th>\n",
       "      <th>max</th>\n",
       "    </tr>\n",
       "  </thead>\n",
       "  <tbody>\n",
       "    <tr>\n",
       "      <th>Age</th>\n",
       "      <td>100000.0</td>\n",
       "      <td>33.312560</td>\n",
       "      <td>10.763924</td>\n",
       "      <td>14.000000</td>\n",
       "      <td>24.000000</td>\n",
       "      <td>33.000000</td>\n",
       "      <td>42.000000</td>\n",
       "      <td>56.000000</td>\n",
       "    </tr>\n",
       "    <tr>\n",
       "      <th>Annual_Income</th>\n",
       "      <td>100000.0</td>\n",
       "      <td>50505.123449</td>\n",
       "      <td>38299.422093</td>\n",
       "      <td>7005.930000</td>\n",
       "      <td>19342.972500</td>\n",
       "      <td>36999.705000</td>\n",
       "      <td>71683.470000</td>\n",
       "      <td>179987.280000</td>\n",
       "    </tr>\n",
       "    <tr>\n",
       "      <th>Monthly_Inhand_Salary</th>\n",
       "      <td>100000.0</td>\n",
       "      <td>4199.890282</td>\n",
       "      <td>3188.480516</td>\n",
       "      <td>303.645417</td>\n",
       "      <td>1626.761667</td>\n",
       "      <td>3096.836667</td>\n",
       "      <td>5964.883333</td>\n",
       "      <td>15204.633333</td>\n",
       "    </tr>\n",
       "    <tr>\n",
       "      <th>Num_Bank_Accounts</th>\n",
       "      <td>100000.0</td>\n",
       "      <td>5.369600</td>\n",
       "      <td>2.592987</td>\n",
       "      <td>-1.000000</td>\n",
       "      <td>3.000000</td>\n",
       "      <td>5.000000</td>\n",
       "      <td>7.000000</td>\n",
       "      <td>10.500000</td>\n",
       "    </tr>\n",
       "    <tr>\n",
       "      <th>Num_Credit_Card</th>\n",
       "      <td>100000.0</td>\n",
       "      <td>5.534640</td>\n",
       "      <td>2.066834</td>\n",
       "      <td>0.500000</td>\n",
       "      <td>4.000000</td>\n",
       "      <td>5.000000</td>\n",
       "      <td>7.000000</td>\n",
       "      <td>11.000000</td>\n",
       "    </tr>\n",
       "    <tr>\n",
       "      <th>Interest_Rate</th>\n",
       "      <td>100000.0</td>\n",
       "      <td>14.532080</td>\n",
       "      <td>8.741330</td>\n",
       "      <td>1.000000</td>\n",
       "      <td>7.000000</td>\n",
       "      <td>13.000000</td>\n",
       "      <td>20.000000</td>\n",
       "      <td>34.000000</td>\n",
       "    </tr>\n",
       "    <tr>\n",
       "      <th>Delay_from_due_date</th>\n",
       "      <td>100000.0</td>\n",
       "      <td>21.062520</td>\n",
       "      <td>14.761850</td>\n",
       "      <td>-2.000000</td>\n",
       "      <td>10.000000</td>\n",
       "      <td>18.000000</td>\n",
       "      <td>28.000000</td>\n",
       "      <td>62.500000</td>\n",
       "    </tr>\n",
       "    <tr>\n",
       "      <th>Num_Credit_Inquiries</th>\n",
       "      <td>100000.0</td>\n",
       "      <td>5.794600</td>\n",
       "      <td>3.831618</td>\n",
       "      <td>0.000000</td>\n",
       "      <td>3.000000</td>\n",
       "      <td>5.000000</td>\n",
       "      <td>8.500000</td>\n",
       "      <td>17.000000</td>\n",
       "    </tr>\n",
       "    <tr>\n",
       "      <th>Credit_Utilization_Ratio</th>\n",
       "      <td>100000.0</td>\n",
       "      <td>32.302328</td>\n",
       "      <td>2.722979</td>\n",
       "      <td>23.698861</td>\n",
       "      <td>30.346087</td>\n",
       "      <td>32.312732</td>\n",
       "      <td>34.196183</td>\n",
       "      <td>43.774821</td>\n",
       "    </tr>\n",
       "    <tr>\n",
       "      <th>Total_EMI_per_month</th>\n",
       "      <td>100000.0</td>\n",
       "      <td>109.924806</td>\n",
       "      <td>236.225101</td>\n",
       "      <td>0.000000</td>\n",
       "      <td>29.524253</td>\n",
       "      <td>66.915017</td>\n",
       "      <td>148.099519</td>\n",
       "      <td>21627.117104</td>\n",
       "    </tr>\n",
       "  </tbody>\n",
       "</table>\n",
       "</div>"
      ],
      "text/plain": [
       "                             count          mean           std          min  \\\n",
       "Age                       100000.0     33.312560     10.763924    14.000000   \n",
       "Annual_Income             100000.0  50505.123449  38299.422093  7005.930000   \n",
       "Monthly_Inhand_Salary     100000.0   4199.890282   3188.480516   303.645417   \n",
       "Num_Bank_Accounts         100000.0      5.369600      2.592987    -1.000000   \n",
       "Num_Credit_Card           100000.0      5.534640      2.066834     0.500000   \n",
       "Interest_Rate             100000.0     14.532080      8.741330     1.000000   \n",
       "Delay_from_due_date       100000.0     21.062520     14.761850    -2.000000   \n",
       "Num_Credit_Inquiries      100000.0      5.794600      3.831618     0.000000   \n",
       "Credit_Utilization_Ratio  100000.0     32.302328      2.722979    23.698861   \n",
       "Total_EMI_per_month       100000.0    109.924806    236.225101     0.000000   \n",
       "\n",
       "                                   25%           50%           75%  \\\n",
       "Age                          24.000000     33.000000     42.000000   \n",
       "Annual_Income             19342.972500  36999.705000  71683.470000   \n",
       "Monthly_Inhand_Salary      1626.761667   3096.836667   5964.883333   \n",
       "Num_Bank_Accounts             3.000000      5.000000      7.000000   \n",
       "Num_Credit_Card               4.000000      5.000000      7.000000   \n",
       "Interest_Rate                 7.000000     13.000000     20.000000   \n",
       "Delay_from_due_date          10.000000     18.000000     28.000000   \n",
       "Num_Credit_Inquiries          3.000000      5.000000      8.500000   \n",
       "Credit_Utilization_Ratio     30.346087     32.312732     34.196183   \n",
       "Total_EMI_per_month          29.524253     66.915017    148.099519   \n",
       "\n",
       "                                    max  \n",
       "Age                           56.000000  \n",
       "Annual_Income             179987.280000  \n",
       "Monthly_Inhand_Salary      15204.633333  \n",
       "Num_Bank_Accounts             10.500000  \n",
       "Num_Credit_Card               11.000000  \n",
       "Interest_Rate                 34.000000  \n",
       "Delay_from_due_date           62.500000  \n",
       "Num_Credit_Inquiries          17.000000  \n",
       "Credit_Utilization_Ratio      43.774821  \n",
       "Total_EMI_per_month        21627.117104  "
      ]
     },
     "execution_count": 33,
     "metadata": {},
     "output_type": "execute_result"
    }
   ],
   "source": [
    "num_columns2.describe().T"
   ]
  },
  {
   "cell_type": "markdown",
   "metadata": {},
   "source": [
    "# Visualisation"
   ]
  },
  {
   "cell_type": "code",
   "execution_count": 34,
   "metadata": {},
   "outputs": [
    {
     "data": {
      "image/png": "[encoded data removed]",
      "text/plain": [
       "<Figure size 511.111x500 with 1 Axes>"
      ]
     },
     "metadata": {},
     "output_type": "display_data"
    }
   ],
   "source": [
    "sns.catplot(df, x=\"Age\", y=\"Credit_Score\", kind=\"bar\") ;"
   ]
  },
  {
   "cell_type": "code",
   "execution_count": 35,
   "metadata": {},
   "outputs": [
    {
     "data": {
      "image/png": "[encoded data removed]",
      "text/plain": [
       "<Figure size 511.111x500 with 1 Axes>"
      ]
     },
     "metadata": {},
     "output_type": "display_data"
    }
   ],
   "source": [
    "sns.catplot(df, x=\"Annual_Income\", y=\"Credit_Score\", kind=\"bar\") ;"
   ]
  },
  {
   "cell_type": "markdown",
   "metadata": {},
   "source": [
    "# Model"
   ]
  },
  {
   "cell_type": "code",
   "execution_count": 36,
   "metadata": {},
   "outputs": [],
   "source": [
    "df1 = df[[\"Delay_from_due_date\", \"Occupation\", \"Annual_Income\", \"Credit_Score\"]]"
   ]
  },
  {
   "cell_type": "code",
   "execution_count": 37,
   "metadata": {},
   "outputs": [
    {
     "data": {
      "text/plain": [
       "Delay_from_due_date    0\n",
       "Occupation             0\n",
       "Annual_Income          0\n",
       "Credit_Score           0\n",
       "dtype: int64"
      ]
     },
     "execution_count": 37,
     "metadata": {},
     "output_type": "execute_result"
    }
   ],
   "source": [
    "df1.isna().sum()"
   ]
  },
  {
   "cell_type": "code",
   "execution_count": 38,
   "metadata": {},
   "outputs": [
    {
     "name": "stdout",
     "output_type": "stream",
     "text": [
      "<class 'pandas.core.frame.DataFrame'>\n",
      "RangeIndex: 100000 entries, 0 to 99999\n",
      "Data columns (total 4 columns):\n",
      " #   Column               Non-Null Count   Dtype  \n",
      "---  ------               --------------   -----  \n",
      " 0   Delay_from_due_date  100000 non-null  float64\n",
      " 1   Occupation           100000 non-null  object \n",
      " 2   Annual_Income        100000 non-null  float64\n",
      " 3   Credit_Score         100000 non-null  object \n",
      "dtypes: float64(2), object(2)\n",
      "memory usage: 3.1+ MB\n"
     ]
    }
   ],
   "source": [
    "df1.info()"
   ]
  },
  {
   "cell_type": "code",
   "execution_count": 39,
   "metadata": {},
   "outputs": [
    {
     "data": {
      "text/html": [
       "<div>\n",
       "<style scoped>\n",
       "    .dataframe tbody tr th:only-of-type {\n",
       "        vertical-align: middle;\n",
       "    }\n",
       "\n",
       "    .dataframe tbody tr th {\n",
       "        vertical-align: top;\n",
       "    }\n",
       "\n",
       "    .dataframe thead th {\n",
       "        text-align: right;\n",
       "    }\n",
       "</style>\n",
       "<table border=\"1\" class=\"dataframe\">\n",
       "  <thead>\n",
       "    <tr style=\"text-align: right;\">\n",
       "      <th></th>\n",
       "      <th>Delay_from_due_date</th>\n",
       "      <th>Occupation</th>\n",
       "      <th>Annual_Income</th>\n",
       "    </tr>\n",
       "  </thead>\n",
       "  <tbody>\n",
       "    <tr>\n",
       "      <th>0</th>\n",
       "      <td>62.0</td>\n",
       "      <td>Lawyer</td>\n",
       "      <td>30625.94</td>\n",
       "    </tr>\n",
       "    <tr>\n",
       "      <th>1</th>\n",
       "      <td>62.0</td>\n",
       "      <td>Lawyer</td>\n",
       "      <td>30625.94</td>\n",
       "    </tr>\n",
       "    <tr>\n",
       "      <th>2</th>\n",
       "      <td>62.0</td>\n",
       "      <td>Lawyer</td>\n",
       "      <td>30625.94</td>\n",
       "    </tr>\n",
       "    <tr>\n",
       "      <th>3</th>\n",
       "      <td>62.0</td>\n",
       "      <td>Lawyer</td>\n",
       "      <td>30625.94</td>\n",
       "    </tr>\n",
       "    <tr>\n",
       "      <th>4</th>\n",
       "      <td>62.0</td>\n",
       "      <td>Lawyer</td>\n",
       "      <td>30625.94</td>\n",
       "    </tr>\n",
       "    <tr>\n",
       "      <th>...</th>\n",
       "      <td>...</td>\n",
       "      <td>...</td>\n",
       "      <td>...</td>\n",
       "    </tr>\n",
       "    <tr>\n",
       "      <th>99995</th>\n",
       "      <td>23.0</td>\n",
       "      <td>Scientist</td>\n",
       "      <td>41398.44</td>\n",
       "    </tr>\n",
       "    <tr>\n",
       "      <th>99996</th>\n",
       "      <td>23.0</td>\n",
       "      <td>Scientist</td>\n",
       "      <td>41398.44</td>\n",
       "    </tr>\n",
       "    <tr>\n",
       "      <th>99997</th>\n",
       "      <td>23.0</td>\n",
       "      <td>Scientist</td>\n",
       "      <td>41398.44</td>\n",
       "    </tr>\n",
       "    <tr>\n",
       "      <th>99998</th>\n",
       "      <td>23.0</td>\n",
       "      <td>Scientist</td>\n",
       "      <td>41398.44</td>\n",
       "    </tr>\n",
       "    <tr>\n",
       "      <th>99999</th>\n",
       "      <td>23.0</td>\n",
       "      <td>Unknown</td>\n",
       "      <td>41398.44</td>\n",
       "    </tr>\n",
       "  </tbody>\n",
       "</table>\n",
       "<p>100000 rows × 3 columns</p>\n",
       "</div>"
      ],
      "text/plain": [
       "       Delay_from_due_date Occupation  Annual_Income\n",
       "0                     62.0     Lawyer       30625.94\n",
       "1                     62.0     Lawyer       30625.94\n",
       "2                     62.0     Lawyer       30625.94\n",
       "3                     62.0     Lawyer       30625.94\n",
       "4                     62.0     Lawyer       30625.94\n",
       "...                    ...        ...            ...\n",
       "99995                 23.0  Scientist       41398.44\n",
       "99996                 23.0  Scientist       41398.44\n",
       "99997                 23.0  Scientist       41398.44\n",
       "99998                 23.0  Scientist       41398.44\n",
       "99999                 23.0    Unknown       41398.44\n",
       "\n",
       "[100000 rows x 3 columns]"
      ]
     },
     "execution_count": 39,
     "metadata": {},
     "output_type": "execute_result"
    }
   ],
   "source": [
    "features_list = df1.columns[0:3]\n",
    "X = df1[features_list]\n",
    "y = df1[\"Credit_Score\"]\n",
    "X"
   ]
  },
  {
   "cell_type": "markdown",
   "metadata": {},
   "source": [
    "### Split the data in train and test sets"
   ]
  },
  {
   "cell_type": "code",
   "execution_count": 40,
   "metadata": {},
   "outputs": [
    {
     "data": {
      "text/plain": [
       "((80000, 3), (20000, 3), (80000,), (20000,))"
      ]
     },
     "execution_count": 40,
     "metadata": {},
     "output_type": "execute_result"
    }
   ],
   "source": [
    "X_train, X_test, y_train, y_test = train_test_split(X, y, test_size=0.2, random_state=0, stratify=y)\n",
    "X_train.shape, X_test.shape, y_train.shape, y_test.shape"
   ]
  },
  {
   "cell_type": "code",
   "execution_count": 41,
   "metadata": {},
   "outputs": [
    {
     "name": "stdout",
     "output_type": "stream",
     "text": [
      "X_train before processing\n",
      "       Delay_from_due_date     Occupation  Annual_Income\n",
      "43955                  5.0         Writer      144881.68\n",
      "57951                 12.0        Unknown       38873.01\n",
      "9348                   7.0  Media_Manager      125873.84\n",
      "82911                  5.0        Unknown      118386.40\n",
      "75670                 15.0         Doctor      120091.92\n",
      "...                    ...            ...            ...\n",
      "93919                 16.0        Unknown       51477.80\n",
      "47298                 23.0     Journalist       12303.09\n",
      "77109                 10.0         Writer      176295.00\n",
      "99347                 15.0  Media_Manager       14310.25\n",
      "22768                  9.0     Journalist       29498.09\n",
      "\n",
      "[80000 rows x 3 columns]\n",
      "(80000, 3)\n",
      "X_train after processing\n",
      "  (0, 15)\t1.0\n",
      "  (0, 16)\t-1.087240883231227\n",
      "  (0, 17)\t2.4583530400668288\n",
      "  (1, 14)\t1.0\n",
      "  (1, 16)\t-0.6126946683590462\n",
      "  (1, 17)\t-0.3062112890443327\n",
      "  (2, 10)\t1.0\n",
      "  (2, 16)\t-0.9516562504106039\n",
      "  (2, 17)\t1.9626539954749824\n",
      "  (3, 14)\t1.0\n",
      "  (3, 16)\t-1.087240883231227\n",
      "  (3, 17)\t1.7673915745771438\n",
      "  (4, 3)\t1.0\n",
      "  (4, 16)\t-0.4093177191281116\n",
      "  (4, 17)\t1.8118692550780473\n",
      "  (5, 15)\t1.0\n",
      "  (5, 16)\t0.6075670270265613\n",
      "  (5, 17)\t0.03722670206532752\n",
      "  (6, 9)\t1.0\n",
      "  (6, 16)\t1.2854901911296766\n",
      "  (6, 17)\t-0.945333328390378\n",
      "  (7, 5)\t1.0\n",
      "  (7, 16)\t-1.3584101488724731\n",
      "  (7, 17)\t2.1420668484397396\n",
      "  (8, 13)\t1.0\n",
      "  :\t:\n",
      "  (79991, 17)\t-0.13652369090648864\n",
      "  (79992, 13)\t1.0\n",
      "  (79992, 16)\t-0.9516562504106039\n",
      "  (79992, 17)\t-0.46469314668401035\n",
      "  (79993, 14)\t1.0\n",
      "  (79993, 16)\t-0.1381484534868655\n",
      "  (79993, 17)\t-1.1223648082871325\n",
      "  (79994, 0)\t1.0\n",
      "  (79994, 16)\t-0.27373308630748855\n",
      "  (79994, 17)\t-0.40635074525441395\n",
      "  (79995, 14)\t1.0\n",
      "  (79995, 16)\t-0.3415254027178001\n",
      "  (79995, 17)\t0.02250477549960583\n",
      "  (79996, 6)\t1.0\n",
      "  (79996, 16)\t0.1330208121543806\n",
      "  (79996, 17)\t-0.9991192659045012\n",
      "  (79997, 15)\t1.0\n",
      "  (79997, 16)\t-0.7482793011796692\n",
      "  (79997, 17)\t3.2775704109757764\n",
      "  (79998, 10)\t1.0\n",
      "  (79998, 16)\t-0.4093177191281116\n",
      "  (79998, 17)\t-0.9467752176411021\n",
      "  (79999, 6)\t1.0\n",
      "  (79999, 16)\t-0.8160716175899808\n",
      "  (79999, 17)\t-0.5506966638751916\n",
      "(80000, 18)\n"
     ]
    }
   ],
   "source": [
    "print(\"X_train before processing\")\n",
    "print(X_train)\n",
    "print(X_train.shape)\n",
    "\n",
    "numeric_features = [0,2]\n",
    "numeric_transformer = StandardScaler()\n",
    "## standardise the numercial values\n",
    "\n",
    "categorical_features = [1]\n",
    "categorical_transformer = OneHotEncoder()\n",
    "## alternatively we can drop the first column\n",
    "\n",
    "featureencoder = ColumnTransformer(\n",
    "    transformers=[\n",
    "        ('cat', categorical_transformer, categorical_features),\n",
    "        ('num', numeric_transformer, numeric_features)\n",
    "        ]\n",
    ")\n",
    "\n",
    "X_train = featureencoder.fit_transform(X_train)\n",
    "X_test = featureencoder.transform(X_test)\n",
    "\n",
    "print(\"X_train after processing\")\n",
    "print(X_train)\n",
    "print(X_train.shape)"
   ]
  },
  {
   "cell_type": "code",
   "execution_count": 42,
   "metadata": {},
   "outputs": [
    {
     "data": {
      "text/html": [
       "<style>#sk-container-id-1 {\n",
       "  /* Definition of color scheme common for light and dark mode */\n",
       "  --sklearn-color-text: black;\n",
       "  --sklearn-color-line: gray;\n",
       "  /* Definition of color scheme for unfitted estimators */\n",
       "  --sklearn-color-unfitted-level-0: #fff5e6;\n",
       "  --sklearn-color-unfitted-level-1: #f6e4d2;\n",
       "  --sklearn-color-unfitted-level-2: #ffe0b3;\n",
       "  --sklearn-color-unfitted-level-3: chocolate;\n",
       "  /* Definition of color scheme for fitted estimators */\n",
       "  --sklearn-color-fitted-level-0: #f0f8ff;\n",
       "  --sklearn-color-fitted-level-1: #d4ebff;\n",
       "  --sklearn-color-fitted-level-2: #b3dbfd;\n",
       "  --sklearn-color-fitted-level-3: cornflowerblue;\n",
       "\n",
       "  /* Specific color for light theme */\n",
       "  --sklearn-color-text-on-default-background: var(--sg-text-color, var(--theme-code-foreground, var(--jp-content-font-color1, black)));\n",
       "  --sklearn-color-background: var(--sg-background-color, var(--theme-background, var(--jp-layout-color0, white)));\n",
       "  --sklearn-color-border-box: var(--sg-text-color, var(--theme-code-foreground, var(--jp-content-font-color1, black)));\n",
       "  --sklearn-color-icon: #696969;\n",
       "\n",
       "  @media (prefers-color-scheme: dark) {\n",
       "    /* Redefinition of color scheme for dark theme */\n",
       "    --sklearn-color-text-on-default-background: var(--sg-text-color, var(--theme-code-foreground, var(--jp-content-font-color1, white)));\n",
       "    --sklearn-color-background: var(--sg-background-color, var(--theme-background, var(--jp-layout-color0, #111)));\n",
       "    --sklearn-color-border-box: var(--sg-text-color, var(--theme-code-foreground, var(--jp-content-font-color1, white)));\n",
       "    --sklearn-color-icon: #878787;\n",
       "  }\n",
       "}\n",
       "\n",
       "#sk-container-id-1 {\n",
       "  color: var(--sklearn-color-text);\n",
       "}\n",
       "\n",
       "#sk-container-id-1 pre {\n",
       "  padding: 0;\n",
       "}\n",
       "\n",
       "#sk-container-id-1 input.sk-hidden--visually {\n",
       "  border: 0;\n",
       "  clip: rect(1px 1px 1px 1px);\n",
       "  clip: rect(1px, 1px, 1px, 1px);\n",
       "  height: 1px;\n",
       "  margin: -1px;\n",
       "  overflow: hidden;\n",
       "  padding: 0;\n",
       "  position: absolute;\n",
       "  width: 1px;\n",
       "}\n",
       "\n",
       "#sk-container-id-1 div.sk-dashed-wrapped {\n",
       "  border: 1px dashed var(--sklearn-color-line);\n",
       "  margin: 0 0.4em 0.5em 0.4em;\n",
       "  box-sizing: border-box;\n",
       "  padding-bottom: 0.4em;\n",
       "  background-color: var(--sklearn-color-background);\n",
       "}\n",
       "\n",
       "#sk-container-id-1 div.sk-container {\n",
       "  /* jupyter's `normalize.less` sets `[hidden] { display: none; }`\n",
       "     but bootstrap.min.css set `[hidden] { display: none !important; }`\n",
       "     so we also need the `!important` here to be able to override the\n",
       "     default hidden behavior on the sphinx rendered scikit-learn.org.\n",
       "     See: https://github.com/scikit-learn/scikit-learn/issues/21755 */\n",
       "  display: inline-block !important;\n",
       "  position: relative;\n",
       "}\n",
       "\n",
       "#sk-container-id-1 div.sk-text-repr-fallback {\n",
       "  display: none;\n",
       "}\n",
       "\n",
       "div.sk-parallel-item,\n",
       "div.sk-serial,\n",
       "div.sk-item {\n",
       "  /* draw centered vertical line to link estimators */\n",
       "  background-image: linear-gradient(var(--sklearn-color-text-on-default-background), var(--sklearn-color-text-on-default-background));\n",
       "  background-size: 2px 100%;\n",
       "  background-repeat: no-repeat;\n",
       "  background-position: center center;\n",
       "}\n",
       "\n",
       "/* Parallel-specific style estimator block */\n",
       "\n",
       "#sk-container-id-1 div.sk-parallel-item::after {\n",
       "  content: \"\";\n",
       "  width: 100%;\n",
       "  border-bottom: 2px solid var(--sklearn-color-text-on-default-background);\n",
       "  flex-grow: 1;\n",
       "}\n",
       "\n",
       "#sk-container-id-1 div.sk-parallel {\n",
       "  display: flex;\n",
       "  align-items: stretch;\n",
       "  justify-content: center;\n",
       "  background-color: var(--sklearn-color-background);\n",
       "  position: relative;\n",
       "}\n",
       "\n",
       "#sk-container-id-1 div.sk-parallel-item {\n",
       "  display: flex;\n",
       "  flex-direction: column;\n",
       "}\n",
       "\n",
       "#sk-container-id-1 div.sk-parallel-item:first-child::after {\n",
       "  align-self: flex-end;\n",
       "  width: 50%;\n",
       "}\n",
       "\n",
       "#sk-container-id-1 div.sk-parallel-item:last-child::after {\n",
       "  align-self: flex-start;\n",
       "  width: 50%;\n",
       "}\n",
       "\n",
       "#sk-container-id-1 div.sk-parallel-item:only-child::after {\n",
       "  width: 0;\n",
       "}\n",
       "\n",
       "/* Serial-specific style estimator block */\n",
       "\n",
       "#sk-container-id-1 div.sk-serial {\n",
       "  display: flex;\n",
       "  flex-direction: column;\n",
       "  align-items: center;\n",
       "  background-color: var(--sklearn-color-background);\n",
       "  padding-right: 1em;\n",
       "  padding-left: 1em;\n",
       "}\n",
       "\n",
       "\n",
       "/* Toggleable style: style used for estimator/Pipeline/ColumnTransformer box that is\n",
       "clickable and can be expanded/collapsed.\n",
       "- Pipeline and ColumnTransformer use this feature and define the default style\n",
       "- Estimators will overwrite some part of the style using the `sk-estimator` class\n",
       "*/\n",
       "\n",
       "/* Pipeline and ColumnTransformer style (default) */\n",
       "\n",
       "#sk-container-id-1 div.sk-toggleable {\n",
       "  /* Default theme specific background. It is overwritten whether we have a\n",
       "  specific estimator or a Pipeline/ColumnTransformer */\n",
       "  background-color: var(--sklearn-color-background);\n",
       "}\n",
       "\n",
       "/* Toggleable label */\n",
       "#sk-container-id-1 label.sk-toggleable__label {\n",
       "  cursor: pointer;\n",
       "  display: block;\n",
       "  width: 100%;\n",
       "  margin-bottom: 0;\n",
       "  padding: 0.5em;\n",
       "  box-sizing: border-box;\n",
       "  text-align: center;\n",
       "}\n",
       "\n",
       "#sk-container-id-1 label.sk-toggleable__label-arrow:before {\n",
       "  /* Arrow on the left of the label */\n",
       "  content: \"▸\";\n",
       "  float: left;\n",
       "  margin-right: 0.25em;\n",
       "  color: var(--sklearn-color-icon);\n",
       "}\n",
       "\n",
       "#sk-container-id-1 label.sk-toggleable__label-arrow:hover:before {\n",
       "  color: var(--sklearn-color-text);\n",
       "}\n",
       "\n",
       "/* Toggleable content - dropdown */\n",
       "\n",
       "#sk-container-id-1 div.sk-toggleable__content {\n",
       "  max-height: 0;\n",
       "  max-width: 0;\n",
       "  overflow: hidden;\n",
       "  text-align: left;\n",
       "  /* unfitted */\n",
       "  background-color: var(--sklearn-color-unfitted-level-0);\n",
       "}\n",
       "\n",
       "#sk-container-id-1 div.sk-toggleable__content.fitted {\n",
       "  /* fitted */\n",
       "  background-color: var(--sklearn-color-fitted-level-0);\n",
       "}\n",
       "\n",
       "#sk-container-id-1 div.sk-toggleable__content pre {\n",
       "  margin: 0.2em;\n",
       "  border-radius: 0.25em;\n",
       "  color: var(--sklearn-color-text);\n",
       "  /* unfitted */\n",
       "  background-color: var(--sklearn-color-unfitted-level-0);\n",
       "}\n",
       "\n",
       "#sk-container-id-1 div.sk-toggleable__content.fitted pre {\n",
       "  /* unfitted */\n",
       "  background-color: var(--sklearn-color-fitted-level-0);\n",
       "}\n",
       "\n",
       "#sk-container-id-1 input.sk-toggleable__control:checked~div.sk-toggleable__content {\n",
       "  /* Expand drop-down */\n",
       "  max-height: 200px;\n",
       "  max-width: 100%;\n",
       "  overflow: auto;\n",
       "}\n",
       "\n",
       "#sk-container-id-1 input.sk-toggleable__control:checked~label.sk-toggleable__label-arrow:before {\n",
       "  content: \"▾\";\n",
       "}\n",
       "\n",
       "/* Pipeline/ColumnTransformer-specific style */\n",
       "\n",
       "#sk-container-id-1 div.sk-label input.sk-toggleable__control:checked~label.sk-toggleable__label {\n",
       "  color: var(--sklearn-color-text);\n",
       "  background-color: var(--sklearn-color-unfitted-level-2);\n",
       "}\n",
       "\n",
       "#sk-container-id-1 div.sk-label.fitted input.sk-toggleable__control:checked~label.sk-toggleable__label {\n",
       "  background-color: var(--sklearn-color-fitted-level-2);\n",
       "}\n",
       "\n",
       "/* Estimator-specific style */\n",
       "\n",
       "/* Colorize estimator box */\n",
       "#sk-container-id-1 div.sk-estimator input.sk-toggleable__control:checked~label.sk-toggleable__label {\n",
       "  /* unfitted */\n",
       "  background-color: var(--sklearn-color-unfitted-level-2);\n",
       "}\n",
       "\n",
       "#sk-container-id-1 div.sk-estimator.fitted input.sk-toggleable__control:checked~label.sk-toggleable__label {\n",
       "  /* fitted */\n",
       "  background-color: var(--sklearn-color-fitted-level-2);\n",
       "}\n",
       "\n",
       "#sk-container-id-1 div.sk-label label.sk-toggleable__label,\n",
       "#sk-container-id-1 div.sk-label label {\n",
       "  /* The background is the default theme color */\n",
       "  color: var(--sklearn-color-text-on-default-background);\n",
       "}\n",
       "\n",
       "/* On hover, darken the color of the background */\n",
       "#sk-container-id-1 div.sk-label:hover label.sk-toggleable__label {\n",
       "  color: var(--sklearn-color-text);\n",
       "  background-color: var(--sklearn-color-unfitted-level-2);\n",
       "}\n",
       "\n",
       "/* Label box, darken color on hover, fitted */\n",
       "#sk-container-id-1 div.sk-label.fitted:hover label.sk-toggleable__label.fitted {\n",
       "  color: var(--sklearn-color-text);\n",
       "  background-color: var(--sklearn-color-fitted-level-2);\n",
       "}\n",
       "\n",
       "/* Estimator label */\n",
       "\n",
       "#sk-container-id-1 div.sk-label label {\n",
       "  font-family: monospace;\n",
       "  font-weight: bold;\n",
       "  display: inline-block;\n",
       "  line-height: 1.2em;\n",
       "}\n",
       "\n",
       "#sk-container-id-1 div.sk-label-container {\n",
       "  text-align: center;\n",
       "}\n",
       "\n",
       "/* Estimator-specific */\n",
       "#sk-container-id-1 div.sk-estimator {\n",
       "  font-family: monospace;\n",
       "  border: 1px dotted var(--sklearn-color-border-box);\n",
       "  border-radius: 0.25em;\n",
       "  box-sizing: border-box;\n",
       "  margin-bottom: 0.5em;\n",
       "  /* unfitted */\n",
       "  background-color: var(--sklearn-color-unfitted-level-0);\n",
       "}\n",
       "\n",
       "#sk-container-id-1 div.sk-estimator.fitted {\n",
       "  /* fitted */\n",
       "  background-color: var(--sklearn-color-fitted-level-0);\n",
       "}\n",
       "\n",
       "/* on hover */\n",
       "#sk-container-id-1 div.sk-estimator:hover {\n",
       "  /* unfitted */\n",
       "  background-color: var(--sklearn-color-unfitted-level-2);\n",
       "}\n",
       "\n",
       "#sk-container-id-1 div.sk-estimator.fitted:hover {\n",
       "  /* fitted */\n",
       "  background-color: var(--sklearn-color-fitted-level-2);\n",
       "}\n",
       "\n",
       "/* Specification for estimator info (e.g. \"i\" and \"?\") */\n",
       "\n",
       "/* Common style for \"i\" and \"?\" */\n",
       "\n",
       ".sk-estimator-doc-link,\n",
       "a:link.sk-estimator-doc-link,\n",
       "a:visited.sk-estimator-doc-link {\n",
       "  float: right;\n",
       "  font-size: smaller;\n",
       "  line-height: 1em;\n",
       "  font-family: monospace;\n",
       "  background-color: var(--sklearn-color-background);\n",
       "  border-radius: 1em;\n",
       "  height: 1em;\n",
       "  width: 1em;\n",
       "  text-decoration: none !important;\n",
       "  margin-left: 1ex;\n",
       "  /* unfitted */\n",
       "  border: var(--sklearn-color-unfitted-level-1) 1pt solid;\n",
       "  color: var(--sklearn-color-unfitted-level-1);\n",
       "}\n",
       "\n",
       ".sk-estimator-doc-link.fitted,\n",
       "a:link.sk-estimator-doc-link.fitted,\n",
       "a:visited.sk-estimator-doc-link.fitted {\n",
       "  /* fitted */\n",
       "  border: var(--sklearn-color-fitted-level-1) 1pt solid;\n",
       "  color: var(--sklearn-color-fitted-level-1);\n",
       "}\n",
       "\n",
       "/* On hover */\n",
       "div.sk-estimator:hover .sk-estimator-doc-link:hover,\n",
       ".sk-estimator-doc-link:hover,\n",
       "div.sk-label-container:hover .sk-estimator-doc-link:hover,\n",
       ".sk-estimator-doc-link:hover {\n",
       "  /* unfitted */\n",
       "  background-color: var(--sklearn-color-unfitted-level-3);\n",
       "  color: var(--sklearn-color-background);\n",
       "  text-decoration: none;\n",
       "}\n",
       "\n",
       "div.sk-estimator.fitted:hover .sk-estimator-doc-link.fitted:hover,\n",
       ".sk-estimator-doc-link.fitted:hover,\n",
       "div.sk-label-container:hover .sk-estimator-doc-link.fitted:hover,\n",
       ".sk-estimator-doc-link.fitted:hover {\n",
       "  /* fitted */\n",
       "  background-color: var(--sklearn-color-fitted-level-3);\n",
       "  color: var(--sklearn-color-background);\n",
       "  text-decoration: none;\n",
       "}\n",
       "\n",
       "/* Span, style for the box shown on hovering the info icon */\n",
       ".sk-estimator-doc-link span {\n",
       "  display: none;\n",
       "  z-index: 9999;\n",
       "  position: relative;\n",
       "  font-weight: normal;\n",
       "  right: .2ex;\n",
       "  padding: .5ex;\n",
       "  margin: .5ex;\n",
       "  width: min-content;\n",
       "  min-width: 20ex;\n",
       "  max-width: 50ex;\n",
       "  color: var(--sklearn-color-text);\n",
       "  box-shadow: 2pt 2pt 4pt #999;\n",
       "  /* unfitted */\n",
       "  background: var(--sklearn-color-unfitted-level-0);\n",
       "  border: .5pt solid var(--sklearn-color-unfitted-level-3);\n",
       "}\n",
       "\n",
       ".sk-estimator-doc-link.fitted span {\n",
       "  /* fitted */\n",
       "  background: var(--sklearn-color-fitted-level-0);\n",
       "  border: var(--sklearn-color-fitted-level-3);\n",
       "}\n",
       "\n",
       ".sk-estimator-doc-link:hover span {\n",
       "  display: block;\n",
       "}\n",
       "\n",
       "/* \"?\"-specific style due to the `<a>` HTML tag */\n",
       "\n",
       "#sk-container-id-1 a.estimator_doc_link {\n",
       "  float: right;\n",
       "  font-size: 1rem;\n",
       "  line-height: 1em;\n",
       "  font-family: monospace;\n",
       "  background-color: var(--sklearn-color-background);\n",
       "  border-radius: 1rem;\n",
       "  height: 1rem;\n",
       "  width: 1rem;\n",
       "  text-decoration: none;\n",
       "  /* unfitted */\n",
       "  color: var(--sklearn-color-unfitted-level-1);\n",
       "  border: var(--sklearn-color-unfitted-level-1) 1pt solid;\n",
       "}\n",
       "\n",
       "#sk-container-id-1 a.estimator_doc_link.fitted {\n",
       "  /* fitted */\n",
       "  border: var(--sklearn-color-fitted-level-1) 1pt solid;\n",
       "  color: var(--sklearn-color-fitted-level-1);\n",
       "}\n",
       "\n",
       "/* On hover */\n",
       "#sk-container-id-1 a.estimator_doc_link:hover {\n",
       "  /* unfitted */\n",
       "  background-color: var(--sklearn-color-unfitted-level-3);\n",
       "  color: var(--sklearn-color-background);\n",
       "  text-decoration: none;\n",
       "}\n",
       "\n",
       "#sk-container-id-1 a.estimator_doc_link.fitted:hover {\n",
       "  /* fitted */\n",
       "  background-color: var(--sklearn-color-fitted-level-3);\n",
       "}\n",
       "</style><div id=\"sk-container-id-1\" class=\"sk-top-container\"><div class=\"sk-text-repr-fallback\"><pre>LogisticRegression(random_state=0)</pre><b>In a Jupyter environment, please rerun this cell to show the HTML representation or trust the notebook. <br />On GitHub, the HTML representation is unable to render, please try loading this page with nbviewer.org.</b></div><div class=\"sk-container\" hidden><div class=\"sk-item\"><div class=\"sk-estimator fitted sk-toggleable\"><input class=\"sk-toggleable__control sk-hidden--visually\" id=\"sk-estimator-id-1\" type=\"checkbox\" checked><label for=\"sk-estimator-id-1\" class=\"sk-toggleable__label fitted sk-toggleable__label-arrow fitted\">&nbsp;&nbsp;LogisticRegression<a class=\"sk-estimator-doc-link fitted\" rel=\"noreferrer\" target=\"_blank\" href=\"https://scikit-learn.org/1.4/modules/generated/sklearn.linear_model.LogisticRegression.html\">?<span>Documentation for LogisticRegression</span></a><span class=\"sk-estimator-doc-link fitted\">i<span>Fitted</span></span></label><div class=\"sk-toggleable__content fitted\"><pre>LogisticRegression(random_state=0)</pre></div> </div></div></div></div>"
      ],
      "text/plain": [
       "LogisticRegression(random_state=0)"
      ]
     },
     "execution_count": 42,
     "metadata": {},
     "output_type": "execute_result"
    }
   ],
   "source": [
    "classifier = LogisticRegression(random_state = 0)\n",
    "classifier.fit(X_train, y_train)"
   ]
  },
  {
   "cell_type": "code",
   "execution_count": 43,
   "metadata": {},
   "outputs": [
    {
     "data": {
      "text/plain": [
       "(0.580825, 0.57735)"
      ]
     },
     "execution_count": 43,
     "metadata": {},
     "output_type": "execute_result"
    }
   ],
   "source": [
    "classifier.score(X_train, y_train), classifier.score(X_test,y_test)"
   ]
  },
  {
   "cell_type": "code",
   "execution_count": 44,
   "metadata": {},
   "outputs": [],
   "source": [
    "from sklearn.metrics import f1_score\n",
    "from sklearn.metrics import precision_score, recall_score"
   ]
  },
  {
   "cell_type": "code",
   "execution_count": 45,
   "metadata": {},
   "outputs": [
    {
     "name": "stdout",
     "output_type": "stream",
     "text": [
      "['Standard' 'Standard' 'Standard' 'Standard' 'Standard']\n",
      "\n"
     ]
    }
   ],
   "source": [
    "y_test_pred = classifier.predict(X_test)\n",
    "print(y_test_pred[:5])\n",
    "print()"
   ]
  },
  {
   "cell_type": "code",
   "execution_count": 46,
   "metadata": {},
   "outputs": [
    {
     "name": "stdout",
     "output_type": "stream",
     "text": [
      "['Standard' 'Standard' 'Standard' 'Standard' 'Standard']\n"
     ]
    }
   ],
   "source": [
    "y_train_pred = classifier.predict(X_train)\n",
    "print(y_train_pred[0:5])"
   ]
  },
  {
   "cell_type": "markdown",
   "metadata": {},
   "source": [
    "## F1_score, Precision, Recall"
   ]
  },
  {
   "cell_type": "code",
   "execution_count": 47,
   "metadata": {},
   "outputs": [
    {
     "data": {
      "text/plain": [
       "array([0.20768409, 0.43119319, 0.69148926])"
      ]
     },
     "execution_count": 47,
     "metadata": {},
     "output_type": "execute_result"
    }
   ],
   "source": [
    "f1_score = f1_score(y_train, y_train_pred, average=None)\n",
    "f1_score"
   ]
  },
  {
   "cell_type": "code",
   "execution_count": 48,
   "metadata": {},
   "outputs": [
    {
     "data": {
      "text/plain": [
       "array([0.52517781, 0.64007468, 0.57305802])"
      ]
     },
     "execution_count": 48,
     "metadata": {},
     "output_type": "execute_result"
    }
   ],
   "source": [
    "precision = precision_score(y_train, y_train_pred, average=None)\n",
    "precision"
   ]
  },
  {
   "cell_type": "code",
   "execution_count": 49,
   "metadata": {},
   "outputs": [
    {
     "data": {
      "text/plain": [
       "array([0.12943486, 0.32510022, 0.87162369])"
      ]
     },
     "execution_count": 49,
     "metadata": {},
     "output_type": "execute_result"
    }
   ],
   "source": [
    "recall = recall_score(y_train, y_train_pred, average=None)\n",
    "recall"
   ]
  },
  {
   "cell_type": "markdown",
   "metadata": {},
   "source": [
    "## Confusion matrix"
   ]
  },
  {
   "cell_type": "code",
   "execution_count": 50,
   "metadata": {},
   "outputs": [],
   "source": [
    "from sklearn.metrics import confusion_matrix, ConfusionMatrixDisplay"
   ]
  },
  {
   "cell_type": "code",
   "execution_count": 51,
   "metadata": {},
   "outputs": [
    {
     "data": {
      "image/png": "[encoded data removed]",
      "text/plain": [
       "<Figure size 640x480 with 2 Axes>"
      ]
     },
     "metadata": {},
     "output_type": "display_data"
    },
    {
     "name": "stdout",
     "output_type": "stream",
     "text": [
      "Accuracy-score on train set : 0.581\n"
     ]
    }
   ],
   "source": [
    "cm = confusion_matrix(y_train, y_train_pred, labels=classifier.classes_)\n",
    "cm_display = ConfusionMatrixDisplay.from_predictions(y_train, y_train_pred)\n",
    "cm_display.ax_.set_title(\"Confusion matrix on train set \") \n",
    "plt.show() \n",
    "print(f\"Accuracy-score on train set : {classifier.score(X_train, y_train):.3f}\")"
   ]
  },
  {
   "cell_type": "code",
   "execution_count": 52,
   "metadata": {},
   "outputs": [
    {
     "data": {
      "image/png": "[encoded data removed]",
      "text/plain": [
       "<Figure size 640x480 with 2 Axes>"
      ]
     },
     "metadata": {},
     "output_type": "display_data"
    },
    {
     "name": "stdout",
     "output_type": "stream",
     "text": [
      "Accuracy-score on test set : 0.577\n"
     ]
    }
   ],
   "source": [
    "cm = confusion_matrix(y_test, y_test_pred, labels=classifier.classes_)\n",
    "cm_display = ConfusionMatrixDisplay.from_predictions(y_test, y_test_pred)\n",
    "cm_display.ax_.set_title(\"Confusion matrix on test set \") \n",
    "plt.show() \n",
    "print(f\"Accuracy-score on test set : {classifier.score(X_test, y_test):.3f}\")"
   ]
  },
  {
   "cell_type": "markdown",
   "metadata": {},
   "source": [
    "## Random forest"
   ]
  },
  {
   "cell_type": "code",
   "execution_count": 53,
   "metadata": {},
   "outputs": [],
   "source": [
    "from sklearn.tree import DecisionTreeClassifier\n",
    "from sklearn.ensemble import RandomForestClassifier"
   ]
  },
  {
   "cell_type": "code",
   "execution_count": 54,
   "metadata": {},
   "outputs": [],
   "source": [
    "random_forest = RandomForestClassifier(n_estimators = 75, max_depth=20)\n",
    "random_forest.fit(X_train, y_train)                  # This steps is the actual training\n",
    "y_train_pred_forest = random_forest.predict(X_train)"
   ]
  },
  {
   "cell_type": "code",
   "execution_count": 55,
   "metadata": {},
   "outputs": [
    {
     "name": "stdout",
     "output_type": "stream",
     "text": [
      "Score sur Train set  0.815375\n",
      "Score sur Test  set  0.76045\n"
     ]
    }
   ],
   "source": [
    "print(\"Score sur Train set \",random_forest.score(X_train, y_train))\n",
    "print(\"Score sur Test  set \",random_forest.score(X_test, y_test))"
   ]
  },
  {
   "cell_type": "code",
   "execution_count": 56,
   "metadata": {},
   "outputs": [
    {
     "name": "stdout",
     "output_type": "stream",
     "text": [
      "['Standard' 'Poor' 'Good' 'Standard' 'Poor']\n",
      "\n"
     ]
    }
   ],
   "source": [
    "y_test_pred_forest = random_forest.predict(X_test)\n",
    "print(y_test_pred_forest[:5])\n",
    "print()"
   ]
  },
  {
   "cell_type": "code",
   "execution_count": 57,
   "metadata": {},
   "outputs": [
    {
     "data": {
      "image/png": "[encoded data removed]",
      "text/plain": [
       "<Figure size 640x480 with 2 Axes>"
      ]
     },
     "metadata": {},
     "output_type": "display_data"
    },
    {
     "name": "stdout",
     "output_type": "stream",
     "text": [
      "Accuracy-score on train set : 0.815\n"
     ]
    }
   ],
   "source": [
    "cm = confusion_matrix(y_train, y_train_pred_forest, labels=random_forest.classes_)\n",
    "cm_display = ConfusionMatrixDisplay.from_predictions(y_train, y_train_pred_forest)\n",
    "cm_display.ax_.set_title(\"Confusion matrix on train set \") \n",
    "plt.show() \n",
    "print(f\"Accuracy-score on train set : {random_forest.score(X_train, y_train):.3f}\")"
   ]
  },
  {
   "cell_type": "code",
   "execution_count": 58,
   "metadata": {},
   "outputs": [
    {
     "data": {
      "image/png": "[encoded data removed]",
      "text/plain": [
       "<Figure size 640x480 with 2 Axes>"
      ]
     },
     "metadata": {},
     "output_type": "display_data"
    },
    {
     "name": "stdout",
     "output_type": "stream",
     "text": [
      "Accuracy-score on test set : 0.760\n"
     ]
    }
   ],
   "source": [
    "cm = confusion_matrix(y_test, y_test_pred_forest, labels=random_forest.classes_)\n",
    "cm_display = ConfusionMatrixDisplay.from_predictions(y_test, y_test_pred_forest)\n",
    "cm_display.ax_.set_title(\"Confusion matrix on test set \") \n",
    "plt.show() \n",
    "print(f\"Accuracy-score on test set : {random_forest.score(X_test, y_test):.3f}\")"
   ]
  },
  {
   "cell_type": "markdown",
   "metadata": {},
   "source": [
    "### If the model is overfit:"
   ]
  },
  {
   "cell_type": "markdown",
   "metadata": {},
   "source": [
    "Modify the depth of random forest\n",
    "Modify the number of trees (by default = 100)\n",
    "Try XGBoost model (sklearn)\n",
    "Gradient Boosting algorithm"
   ]
  },
  {
   "cell_type": "markdown",
   "metadata": {},
   "source": [
    "## Feature importance"
   ]
  },
  {
   "cell_type": "code",
   "execution_count": 59,
   "metadata": {},
   "outputs": [
    {
     "data": {
      "text/plain": [
       "array([0.00240134, 0.00226267, 0.00241164, 0.00209245, 0.002082  ,\n",
       "       0.00196469, 0.00266291, 0.00252829, 0.00252909, 0.00203605,\n",
       "       0.00189255, 0.00226737, 0.00224502, 0.00229945, 0.00179968,\n",
       "       0.00224854, 0.40580075, 0.5584755 ])"
      ]
     },
     "execution_count": 59,
     "metadata": {},
     "output_type": "execute_result"
    }
   ],
   "source": [
    "random_forest.feature_importances_"
   ]
  },
  {
   "cell_type": "code",
   "execution_count": null,
   "metadata": {},
   "outputs": [],
   "source": []
  },
  {
   "cell_type": "markdown",
   "metadata": {},
   "source": [
    "## Testing with XGBoost"
   ]
  },
  {
   "cell_type": "code",
   "execution_count": 60,
   "metadata": {},
   "outputs": [],
   "source": [
    "from sklearn.ensemble import GradientBoostingClassifier"
   ]
  },
  {
   "cell_type": "code",
   "execution_count": 61,
   "metadata": {},
   "outputs": [
    {
     "name": "stdout",
     "output_type": "stream",
     "text": [
      "Score on Train set with Gradient Boost 0.607275\n",
      "Score on Test  set with Gradient Boost 0.60105\n",
      "['Standard' 'Poor' 'Standard' 'Standard' 'Standard']\n",
      "\n"
     ]
    }
   ],
   "source": [
    "XGboost = GradientBoostingClassifier()\n",
    "XGboost.fit(X_train, y_train)                  # This steps is the actual training\n",
    "\n",
    "y_train_pred_xg = XGboost.predict(X_train)\n",
    "print(\"Score on Train set with Gradient Boost\",XGboost.score(X_train, y_train))\n",
    "print(\"Score on Test  set with Gradient Boost\",XGboost.score(X_test, y_test))\n",
    "y_test_pred_xg = XGboost.predict(X_test)\n",
    "print(y_test_pred_xg[:5])\n",
    "print()"
   ]
  },
  {
   "cell_type": "markdown",
   "metadata": {},
   "source": [
    "## Forecasting with real data"
   ]
  },
  {
   "cell_type": "code",
   "execution_count": 62,
   "metadata": {},
   "outputs": [
    {
     "name": "stdout",
     "output_type": "stream",
     "text": [
      "  (0, 15)\t1.0\n",
      "  (0, 16)\t-1.087240883231227\n",
      "  (0, 17)\t-0.7983941475686237\n",
      "\n",
      "['Standard']\n"
     ]
    }
   ],
   "source": [
    "forecast = {\n",
    "    \"Delay_from_due_date\": [5],\n",
    "    \"Occupation\": [\"Writer\"],\n",
    "    \"Annual_Income\": [20000],\n",
    "}\n",
    "\n",
    "abc = pd.DataFrame(forecast)\n",
    "abc = featureencoder.transform(abc)\n",
    "\n",
    "print(abc[:5])\n",
    "print()\n",
    "\n",
    "Score_forecast = random_forest.predict(abc)\n",
    "print(Score_forecast[:5])"
   ]
  },
  {
   "cell_type": "code",
   "execution_count": 63,
   "metadata": {},
   "outputs": [
    {
     "name": "stdout",
     "output_type": "stream",
     "text": [
      "  (0, 4)\t1.0\n",
      "  (0, 16)\t-1.087240883231227\n",
      "  (0, 17)\t-0.7983941475686237\n",
      "\n",
      "['Good']\n"
     ]
    }
   ],
   "source": [
    "forecast = {\n",
    "    \"Delay_from_due_date\": [5],\n",
    "    \"Occupation\": [\"Engineer\"],\n",
    "    \"Annual_Income\": [20000],\n",
    "}\n",
    "\n",
    "abc = pd.DataFrame(forecast)\n",
    "abc = featureencoder.transform(abc)\n",
    "\n",
    "print(abc[:5])\n",
    "print()\n",
    "\n",
    "Score_forecast = random_forest.predict(abc)\n",
    "print(Score_forecast[:5])"
   ]
  }
 ],
 "metadata": {
  "kernelspec": {
   "display_name": "base",
   "language": "python",
   "name": "python3"
  },
  "language_info": {
   "codemirror_mode": {
    "name": "ipython",
    "version": 3
   },
   "file_extension": ".py",
   "mimetype": "text/x-python",
   "name": "python",
   "nbconvert_exporter": "python",
   "pygments_lexer": "ipython3",
   "version": "3.0.0"
  }
 },
 "nbformat": 4,
 "nbformat_minor": 2
}
